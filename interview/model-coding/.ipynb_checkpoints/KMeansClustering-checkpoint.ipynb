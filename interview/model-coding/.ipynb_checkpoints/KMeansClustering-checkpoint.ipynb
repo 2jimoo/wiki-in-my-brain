{
 "cells": [
  {
   "cell_type": "markdown",
   "id": "c44eeddc",
   "metadata": {},
   "source": [
    "https://github.com/alirezadir/Machine-Learning-Interviews/blob/main/src/MLC/notebooks/k_means.ipynb\n",
    "1. 랜덤 k개 centroid 선택\n",
    "    - np.random,choice(배열, 갯수, replace 여부)\n",
    "2. 모든 데이터 포인트에 대해 최단 거리 centroid 클러스터로 할당\n",
    "    - np.linalg.norm(배열, axis=dim): dim차원 norm\n",
    "    - np.argmin(배열): 최소값 인덱스 찾기\n",
    "3. 클러스터들 내 평균거리 계산(새 centroid 후보)\n",
    "    - np.where: 조건에 맞는 인덱스만 추출\n",
    "    - np.mean(arr, axis = 0): 열을 따라 산술 평균을 계산\n",
    "4. centroid 갱신 없거나 최대 횟수까지 반복\n",
    "    - np.array_equal(배열, 배열)\n",
    "    - np.copy(배열)"
   ]
  },
  {
   "cell_type": "code",
   "execution_count": 2,
   "id": "582e94ec",
   "metadata": {},
   "outputs": [],
   "source": [
    "import numpy as np\n",
    "\n",
    "class KmeansClustering:\n",
    "    def __init__(self, k=5, max_iter=5):\n",
    "        self.k=k\n",
    "        self.max_iter=max_iter\n",
    "        self.centroids= None\n",
    "        \n",
    "    def fit(self, X):\n",
    "        self.centroids= np.random.choice(len(X), self.k, replace=False)\n",
    "        assigned=[0 for _ in range(len(X))]\n",
    "        for _ in range(max_iter):\n",
    "            for idx, x in enumerate(X):\n",
    "                distances = [np.linalg.norm(centroids, axis=1)]\n",
    "                assigned[idx]= np.argmin(distances)\n",
    "            \n",
    "            centroids=np.zeros(len(X))\n",
    "            for k in range(self.k):\n",
    "                cluster_datapoints= X[np.where( np.array(assigned) == k )]\n",
    "                centroids[k]=np.mean(cluster_datapoints, axis = 0)\n",
    "            \n",
    "            # np.array로 연산 성능 최적화\n",
    "#             new_centroids = np.array([np.mean(X[np.where(cluster_assignments == j)], axis=0) \n",
    "#                                       for j in range(self.k)])\n",
    "            \n",
    "            # if np.linalg.norm(new_centroids - self.centroids) < self.tol:\n",
    "            if np.array_equal(centoids, self.centorids):\n",
    "                break\n",
    "            self.centorids= centorids\n",
    "            \n",
    "    def predict(self, X):\n",
    "        # Assign each data point to the nearest centroid\n",
    "        cluster_assignments = []\n",
    "        for j in range(len(X)):\n",
    "            distances = np.linalg.norm(X[j] - self.centroids, axis=1)\n",
    "            cluster_assignments.append(np.argmin(distances))\n",
    "        \n",
    "        return cluster_assignments"
   ]
  },
  {
   "cell_type": "markdown",
   "id": "96eb0b14",
   "metadata": {},
   "source": [
    "최적화\n",
    "- np.array로 연산 성능 최적화\n",
    "- 일정 차이 미만이면 정지"
   ]
  },
  {
   "cell_type": "code",
   "execution_count": null,
   "id": "30e66f00",
   "metadata": {},
   "outputs": [],
   "source": []
  }
 ],
 "metadata": {
  "kernelspec": {
   "display_name": "Python 3 (ipykernel)",
   "language": "python",
   "name": "python3"
  },
  "language_info": {
   "codemirror_mode": {
    "name": "ipython",
    "version": 3
   },
   "file_extension": ".py",
   "mimetype": "text/x-python",
   "name": "python",
   "nbconvert_exporter": "python",
   "pygments_lexer": "ipython3",
   "version": "3.9.2"
  }
 },
 "nbformat": 4,
 "nbformat_minor": 5
}
