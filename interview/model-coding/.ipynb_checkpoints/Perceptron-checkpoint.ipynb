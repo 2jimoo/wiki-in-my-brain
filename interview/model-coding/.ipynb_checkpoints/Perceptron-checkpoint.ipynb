{
 "cells": [
  {
   "cell_type": "markdown",
   "id": "c8af72c8",
   "metadata": {},
   "source": [
    "https://github.com/alirezadir/Machine-Learning-Interviews/blob/main/src/MLC/notebooks/perceptron.ipynb \n",
    "퍼셉트론\n",
    "1. 선형결합+sign(-1~1)로 이진분류하는 노드\n",
    "    - y_pred = sign(w0 + w1*x1 + w2*x2 + ... + wn*xn)\n",
    "    - np.where()를 이용해서 특정 값을 반환하는 것도 가능\n",
    "2. 차이로부터 학습한다.\n",
    "    - wi = wi + learning_rate * (target - y_pred) * xi"
   ]
  },
  {
   "cell_type": "code",
   "execution_count": null,
   "id": "664d159f",
   "metadata": {},
   "outputs": [],
   "source": [
    "import numpy as np\n",
    "\n",
    "class Perceptron:\n",
    "    def __init__(self, lr=0.01, n_iter=100):\n",
    "        self.lr = lr\n",
    "        self.n_iter = n_iter\n",
    "\n",
    "    def fit(self, X, y):\n",
    "        self.weights = np.zeros(1 + X.shape[1])\n",
    "        self.errors = []\n",
    "\n",
    "        for _ in range(self.n_iter):\n",
    "            errors = 0\n",
    "            for xi, target in zip(X, y):\n",
    "                update = self.lr * (target - self.predict(xi))\n",
    "                self.weights[1:] += update * xi\n",
    "                self.weights[0] += update\n",
    "                errors += int(update != 0.0)\n",
    "            self.errors.append(errors)\n",
    "        return self\n",
    "\n",
    "    def net_input(self, X):\n",
    "        return np.dot(X, self.weights[1:]) + self.weights[0]\n",
    "\n",
    "    def predict(self, X):\n",
    "        return np.where(self.net_input(X) >= 0.0, 1, -1)\n",
    "# class Perceptron:\n",
    "#     def __init__(self, lr=0.01):\n",
    "#         self.w=None\n",
    "#         self.lr= lr\n",
    "    \n",
    "#     def sign(self, z):\n",
    "#         return -1 if z < 0 else 1\n",
    "    \n",
    "#     def predict(self, x):\n",
    "#         z= np.matmul(self.w, x)\n",
    "#         y_pred= self.sign(z)\n",
    "#         return y_pred\n",
    "    \n",
    "#     def fit(self, X, n_iter):\n",
    "#         n_samples, n_features= x.shape\n",
    "#         self.w = np.array([np.ones(1, n_features), np.zeros(n_samples, n_features)])\n",
    "#         for i in range(n_iter):\n",
    "#             error=np.array([])\n",
    "#             for x in X:\n",
    "#                 y_pred=self.predict(x)\n",
    "#                 error.append(y-y_pred)\n",
    "#             self.w= self.w - self.lr*(\n",
    "#             )"
   ]
  }
 ],
 "metadata": {
  "kernelspec": {
   "display_name": "Python 3 (ipykernel)",
   "language": "python",
   "name": "python3"
  },
  "language_info": {
   "codemirror_mode": {
    "name": "ipython",
    "version": 3
   },
   "file_extension": ".py",
   "mimetype": "text/x-python",
   "name": "python",
   "nbconvert_exporter": "python",
   "pygments_lexer": "ipython3",
   "version": "3.9.2"
  }
 },
 "nbformat": 4,
 "nbformat_minor": 5
}
