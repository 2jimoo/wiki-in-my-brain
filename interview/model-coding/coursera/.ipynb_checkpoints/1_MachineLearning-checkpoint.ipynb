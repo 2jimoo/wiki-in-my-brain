{
 "cells": [
  {
   "cell_type": "markdown",
   "id": "de047eb6",
   "metadata": {},
   "source": [
    "# 단변수 선형회귀"
   ]
  },
  {
   "cell_type": "code",
   "execution_count": 57,
   "id": "05a6d8f1",
   "metadata": {},
   "outputs": [
    {
     "name": "stdout",
     "output_type": "stream",
     "text": [
      "[1. 1.]\n"
     ]
    }
   ],
   "source": [
    "import numpy as np\n",
    "\n",
    "x= np.array([30.0, 100.0])\n",
    "y= np.array([50.0, 160.0])\n",
    "\n",
    "n_samples, n_features= len(x), 2\n",
    "w = 0\n",
    "b = 1\n",
    "\n",
    "def predict(x, w, b):\n",
    "    pred_y= np.zeros(n_samples)\n",
    "    for i in range(n_samples):\n",
    "        pred_y[i]= w * x[i]+b\n",
    "    return pred_y\n",
    "    #return w.T@X + b\n",
    "\n",
    "print(predict(x,w,b))"
   ]
  },
  {
   "cell_type": "code",
   "execution_count": 59,
   "id": "9d8fa3a6",
   "metadata": {},
   "outputs": [
    {
     "name": "stdout",
     "output_type": "stream",
     "text": [
      "[-1.09572151e+24 -3.65160551e+24]\n"
     ]
    }
   ],
   "source": [
    "def train(x, y):\n",
    "    w, b= 0.0, 1.0\n",
    "    lr, epoch= 0.01, 10\n",
    "    for _ in range(epoch):\n",
    "        for i in range(n_samples):\n",
    "            pred_y= w * x[i] + b\n",
    "            dw= ((pred_y-y[i])*x[i])/ n_samples\n",
    "            db= (pred_y-y[i])/ n_samples\n",
    "            w -= lr * dw\n",
    "            b -= lr * db\n",
    "            # print(f'pred_y:{pred_y}, dw:{dw}, db:{db}, w:{w}, b:{b}')\n",
    "    return w, b\n",
    "\n",
    "w,b = train(x,y)\n",
    "print(predict(x,w,b))"
   ]
  },
  {
   "cell_type": "markdown",
   "id": "8baec405",
   "metadata": {},
   "source": [
    "# 다변수 선형회귀"
   ]
  },
  {
   "cell_type": "code",
   "execution_count": 60,
   "id": "5fe14f9d",
   "metadata": {},
   "outputs": [
    {
     "name": "stdout",
     "output_type": "stream",
     "text": [
      "n_samples:3, n_features:4\n"
     ]
    }
   ],
   "source": [
    "import numpy as np\n",
    "\n",
    "X_train = np.array([[2104, 5, 1, 45], [1416, 3, 2, 40], [852, 2, 1, 35]])\n",
    "y_train = np.array([460, 232, 178])\n",
    "\n",
    "n_samples, n_features= X_train.shape\n",
    "print(f'n_samples:{n_samples}, n_features:{n_features}')"
   ]
  },
  {
   "cell_type": "code",
   "execution_count": 61,
   "id": "48e36b6a",
   "metadata": {},
   "outputs": [],
   "source": [
    "w= np.random.rand(n_features)\n",
    "b= np.random.rand(1)#np.ones(n_features)"
   ]
  },
  {
   "cell_type": "code",
   "execution_count": 62,
   "id": "6a6737ae",
   "metadata": {},
   "outputs": [
    {
     "name": "stdout",
     "output_type": "stream",
     "text": [
      "[1465.13666794  992.39501878  603.30999021]\n"
     ]
    }
   ],
   "source": [
    "def predict(x, w, b):\n",
    "    #return np.dot(w.T,x) + b\n",
    "    return np.dot(x, w) + b\n",
    "print(predict(X_train,w,b))"
   ]
  },
  {
   "cell_type": "code",
   "execution_count": 63,
   "id": "f1026ec3",
   "metadata": {},
   "outputs": [],
   "source": [
    "def train(epoch, x, y, w, b, lr=0.01):\n",
    "    for _ in range(epoch):\n",
    "        y_pred=np.dot(x, w) + b\n",
    "        error= y-y_pred\n",
    "        dw= (np.dot(x.T,error))/n_samples\n",
    "        db= np.sum(error)/n_samples\n",
    "        w = w - lr*dw\n",
    "        b = b - lr*db\n",
    "    return w, b\n",
    "\n",
    "# w,b = train(10, X_train,y_train, w, b)\n",
    "# print(predict(X_train,w,b))"
   ]
  },
  {
   "cell_type": "markdown",
   "id": "fa528df3",
   "metadata": {},
   "source": [
    "# Polynomial Regression\n",
    "- Feature scaling\n",
    "- Feature engineering"
   ]
  },
  {
   "cell_type": "code",
   "execution_count": 64,
   "id": "79ee0e74",
   "metadata": {},
   "outputs": [],
   "source": [
    "def minmax_scale(x):\n",
    "    mn, mx = np.min(x), np.max(x)\n",
    "    x= (x-mn)/mx\n",
    "    return x\n",
    "\n",
    "def zscore_scale(x):\n",
    "    mean, var= np.mean(x), np.var(x)\n",
    "    x= (x-mean)/var\n",
    "    return x"
   ]
  },
  {
   "cell_type": "code",
   "execution_count": 65,
   "id": "0b00b4bc",
   "metadata": {},
   "outputs": [],
   "source": [
    "#print(minmax_scale(X_train))"
   ]
  },
  {
   "cell_type": "code",
   "execution_count": 66,
   "id": "d22d9582",
   "metadata": {},
   "outputs": [],
   "source": [
    "#print(zscore_scale(X_train))"
   ]
  },
  {
   "cell_type": "code",
   "execution_count": 67,
   "id": "1d85d64a",
   "metadata": {},
   "outputs": [],
   "source": [
    "x= np.arange(0,20,1)\n",
    "y= x**2\n",
    "\n",
    "x_aug = np.c_[x, x**2, x**3]\n",
    "X_train = zscore_scale(x_aug)\n",
    "X_train= X_train.reshape(-1, 1)\n",
    "\n",
    "y_train= np.c_[y, y, y]\n",
    "y_train=y_train.reshape(-1, 1)"
   ]
  },
  {
   "cell_type": "code",
   "execution_count": 68,
   "id": "bd06c3b9",
   "metadata": {},
   "outputs": [
    {
     "name": "stdout",
     "output_type": "stream",
     "text": [
      "[[-13428.66842909 -13428.66842909 -13428.66842909 ... -13428.66842909\n",
      "  -13428.66842909 -13428.66842909]\n",
      " [-13428.66842909 -13428.66842909 -13428.66842909 ... -13428.66842909\n",
      "  -13428.66842909 -13428.66842909]\n",
      " [-13428.66842909 -13428.66842909 -13428.66842909 ... -13428.66842909\n",
      "  -13428.66842909 -13428.66842909]\n",
      " ...\n",
      " [-13428.66842597 -13428.66842597 -13428.66842597 ... -13428.66842597\n",
      "  -13428.66842597 -13428.66842597]\n",
      " [-13428.66836996 -13428.66836996 -13428.66836996 ... -13428.66836996\n",
      "  -13428.66836996 -13428.66836996]\n",
      " [-13428.6673057  -13428.6673057  -13428.6673057  ... -13428.6673057\n",
      "  -13428.6673057  -13428.6673057 ]]\n"
     ]
    }
   ],
   "source": [
    "n_samples, n_features= X_train.shape\n",
    "w= np.random.rand(n_features)\n",
    "b= np.random.rand(1)\n",
    "\n",
    "w,b = train(10, X_train, y_train, w, b)\n",
    "print(predict(X_train,w,b))"
   ]
  }
 ],
 "metadata": {
  "kernelspec": {
   "display_name": "Python 3 (ipykernel)",
   "language": "python",
   "name": "python3"
  },
  "language_info": {
   "codemirror_mode": {
    "name": "ipython",
    "version": 3
   },
   "file_extension": ".py",
   "mimetype": "text/x-python",
   "name": "python",
   "nbconvert_exporter": "python",
   "pygments_lexer": "ipython3",
   "version": "3.9.2"
  }
 },
 "nbformat": 4,
 "nbformat_minor": 5
}
