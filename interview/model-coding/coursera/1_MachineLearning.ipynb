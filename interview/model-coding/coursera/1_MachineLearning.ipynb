{
 "cells": [
  {
   "cell_type": "markdown",
   "id": "de047eb6",
   "metadata": {},
   "source": [
    "# 단변수 선형회귀"
   ]
  },
  {
   "cell_type": "code",
   "execution_count": 73,
   "id": "05a6d8f1",
   "metadata": {},
   "outputs": [
    {
     "name": "stdout",
     "output_type": "stream",
     "text": [
      "[1. 1.]\n"
     ]
    }
   ],
   "source": [
    "import numpy as np\n",
    "\n",
    "x= np.array([30.0, 100.0])\n",
    "y= np.array([50.0, 160.0])\n",
    "\n",
    "n_samples, n_features= len(x), 2\n",
    "w = 0\n",
    "b = 1\n",
    "\n",
    "def predict(x, w, b):\n",
    "    pred_y= np.zeros(n_samples)\n",
    "    for i in range(n_samples):\n",
    "        pred_y[i]= w * x[i]+b\n",
    "    return pred_y\n",
    "    #return w.T@X + b\n",
    "\n",
    "print(predict(x,w,b))"
   ]
  },
  {
   "cell_type": "code",
   "execution_count": 75,
   "id": "9d8fa3a6",
   "metadata": {},
   "outputs": [
    {
     "name": "stdout",
     "output_type": "stream",
     "text": [
      "pred_y:1.0, dw:-735.0, db:-24.5, w:7.3500000000000005, b:1.245\n",
      "pred_y:736.245, dw:28812.25, db:288.1225, w:-280.7725, b:-1.636225\n",
      "pred_y:-8424.811225, dw:-127122.168375, db:-4237.4056125, w:990.44918375, b:40.73783112499999\n",
      "pred_y:99085.656206125, dw:4946282.81030625, db:49462.8281030625, w:-48472.3789193125, b:-453.890449905625\n",
      "pred_y:-1454625.2580292805, dw:-21820128.870439205, db:-727337.6290146402, w:169728.90978507957, b:6819.485840240777\n",
      "pred_y:16979710.4643482, dw:848977523.2174101, db:8489775.2321741, w:-8320046.322389021, b:-78078.26648150024\n",
      "pred_y:-249679467.9381521, dw:-3745192769.0722814, db:-124839758.96907605, w:29131881.368333794, b:1170319.3232092601\n",
      "pred_y:2914358456.1565886, dw:145717914807.82944, db:1457179148.0782943, w:-1428047266.7099607, b:-13401472.157573683\n",
      "pred_y:-42854819473.45639, dw:-642822292851.8458, db:-21427409761.728195, w:5000175661.808497, b:200872625.45970827\n",
      "pred_y:500218438806.30945, dw:25010921932315.473, db:250109219323.15472, w:-245109043661.34622, b:-2300219567.771839\n",
      "pred_y:-7355571529408.158, dw:-110333572941872.38, db:-3677785764729.079, w:858226685757.3777, b:34477638079.51895\n",
      "pred_y:85857146213817.28, dw:4292857310682864.0, db:42928573106828.64, w:-42070346421071.266, b:-394808092988.76746\n",
      "pred_y:-1262505200725126.8, dw:-1.8937578010877652e+16, db:-631252600362588.4, w:147305433687705.25, b:5917717910637.116\n",
      "pred_y:1.4736461086681162e+16, dw:7.3682305433405e+17, db:7368230543340501.0, w:-7220925109652796.0, b:-67764587522767.9\n",
      "pred_y:-2.1669551787710662e+17, dw:-3.2504327681566003e+18, db:-1.0834775893855334e+17, w:2.528340257191321e+16, b:1015713001862765.6\n",
      "pred_y:2.529355970193183e+18, dw:1.2646779850965916e+20, db:1.2646779850965916e+18, w:-1.2393945825246784e+18, b:-1.163106684910315e+16\n",
      "pred_y:-3.719346854258945e+19, dw:-5.579020281388418e+20, db:-1.8596734271294726e+19, w:4.33962569886374e+18, b:1.7433627586384413e+17\n",
      "pred_y:4.341369061622378e+20, dw:2.170684530811189e+22, db:2.170684530811189e+20, w:-2.1272882738225516e+20, b:-1.996348254947345e+18\n",
      "pred_y:-6.383861169722602e+21, dw:-9.575791754583904e+22, db:-3.191930584861301e+21, w:7.448503480761352e+20, b:2.9922957593665667e+19\n",
      "pred_y:7.4514957765207185e+22, dw:3.7257478882603593e+24, db:3.7257478882603592e+22, w:-3.651262853452746e+22, b:-3.4265183123237025e+20\n",
      "[-1.09572151e+24 -3.65160551e+24]\n"
     ]
    }
   ],
   "source": [
    "def train(x, y):\n",
    "    w, b= 0.0, 1.0\n",
    "    lr, epoch= 0.01, 10\n",
    "    for _ in range(epoch):\n",
    "        for i in range(n_samples):\n",
    "            pred_y= w * x[i] + b\n",
    "            dw= ((pred_y-y[i])*x[i])/ n_samples\n",
    "            db= (pred_y-y[i])/ n_samples\n",
    "            w = w - lr * dw\n",
    "            b = b - lr * db\n",
    "            print(f'pred_y:{pred_y}, dw:{dw}, db:{db}, w:{w}, b:{b}')\n",
    "    return w, b\n",
    "\n",
    "w,b = train(x,y)\n",
    "print(predict(x,w,b))"
   ]
  },
  {
   "cell_type": "markdown",
   "id": "8baec405",
   "metadata": {},
   "source": [
    "# 다변수 선형회귀"
   ]
  },
  {
   "cell_type": "code",
   "execution_count": 60,
   "id": "5fe14f9d",
   "metadata": {},
   "outputs": [
    {
     "name": "stdout",
     "output_type": "stream",
     "text": [
      "n_samples:3, n_features:4\n"
     ]
    }
   ],
   "source": [
    "import numpy as np\n",
    "\n",
    "X_train = np.array([[2104, 5, 1, 45], [1416, 3, 2, 40], [852, 2, 1, 35]])\n",
    "y_train = np.array([460, 232, 178])\n",
    "\n",
    "n_samples, n_features= X_train.shape\n",
    "print(f'n_samples:{n_samples}, n_features:{n_features}')"
   ]
  },
  {
   "cell_type": "code",
   "execution_count": 61,
   "id": "48e36b6a",
   "metadata": {},
   "outputs": [],
   "source": [
    "w= np.random.rand(n_features)\n",
    "b= np.random.rand(1)#np.ones(n_features)"
   ]
  },
  {
   "cell_type": "code",
   "execution_count": 62,
   "id": "6a6737ae",
   "metadata": {},
   "outputs": [
    {
     "name": "stdout",
     "output_type": "stream",
     "text": [
      "[1465.13666794  992.39501878  603.30999021]\n"
     ]
    }
   ],
   "source": [
    "def predict(x, w, b):\n",
    "    #return np.dot(w.T,x) + b\n",
    "    return np.dot(x, w) + b\n",
    "print(predict(X_train,w,b))"
   ]
  },
  {
   "cell_type": "code",
   "execution_count": 63,
   "id": "f1026ec3",
   "metadata": {},
   "outputs": [],
   "source": [
    "def train(epoch, x, y, w, b, lr=0.01):\n",
    "    for _ in range(epoch):\n",
    "        y_pred=np.dot(x, w) + b\n",
    "        error= y-y_pred\n",
    "        dw= (np.dot(x.T,error))/n_samples\n",
    "        db= np.sum(error)/n_samples\n",
    "        w = w - lr*dw\n",
    "        b = b - lr*db\n",
    "    return w, b\n",
    "\n",
    "# w,b = train(10, X_train,y_train, w, b)\n",
    "# print(predict(X_train,w,b))"
   ]
  },
  {
   "cell_type": "markdown",
   "id": "fa528df3",
   "metadata": {},
   "source": [
    "# Polynomial Regression\n",
    "- Feature scaling\n",
    "- Feature engineering"
   ]
  },
  {
   "cell_type": "code",
   "execution_count": 64,
   "id": "79ee0e74",
   "metadata": {},
   "outputs": [],
   "source": [
    "def minmax_scale(x):\n",
    "    mn, mx = np.min(x), np.max(x)\n",
    "    x= (x-mn)/mx\n",
    "    return x\n",
    "\n",
    "def zscore_scale(x):\n",
    "    mean, var= np.mean(x), np.var(x)\n",
    "    x= (x-mean)/var\n",
    "    return x"
   ]
  },
  {
   "cell_type": "code",
   "execution_count": 65,
   "id": "0b00b4bc",
   "metadata": {},
   "outputs": [],
   "source": [
    "#print(minmax_scale(X_train))"
   ]
  },
  {
   "cell_type": "code",
   "execution_count": 66,
   "id": "d22d9582",
   "metadata": {},
   "outputs": [],
   "source": [
    "#print(zscore_scale(X_train))"
   ]
  },
  {
   "cell_type": "code",
   "execution_count": 67,
   "id": "1d85d64a",
   "metadata": {},
   "outputs": [],
   "source": [
    "x= np.arange(0,20,1)\n",
    "y= x**2\n",
    "\n",
    "x_aug = np.c_[x, x**2, x**3]\n",
    "X_train = zscore_scale(x_aug)\n",
    "X_train= X_train.reshape(-1, 1)\n",
    "\n",
    "y_train= np.c_[y, y, y]\n",
    "y_train=y_train.reshape(-1, 1)"
   ]
  },
  {
   "cell_type": "code",
   "execution_count": 68,
   "id": "bd06c3b9",
   "metadata": {},
   "outputs": [
    {
     "name": "stdout",
     "output_type": "stream",
     "text": [
      "[[-13428.66842909 -13428.66842909 -13428.66842909 ... -13428.66842909\n",
      "  -13428.66842909 -13428.66842909]\n",
      " [-13428.66842909 -13428.66842909 -13428.66842909 ... -13428.66842909\n",
      "  -13428.66842909 -13428.66842909]\n",
      " [-13428.66842909 -13428.66842909 -13428.66842909 ... -13428.66842909\n",
      "  -13428.66842909 -13428.66842909]\n",
      " ...\n",
      " [-13428.66842597 -13428.66842597 -13428.66842597 ... -13428.66842597\n",
      "  -13428.66842597 -13428.66842597]\n",
      " [-13428.66836996 -13428.66836996 -13428.66836996 ... -13428.66836996\n",
      "  -13428.66836996 -13428.66836996]\n",
      " [-13428.6673057  -13428.6673057  -13428.6673057  ... -13428.6673057\n",
      "  -13428.6673057  -13428.6673057 ]]\n"
     ]
    }
   ],
   "source": [
    "n_samples, n_features= X_train.shape\n",
    "w= np.random.rand(n_features)\n",
    "b= np.random.rand(1)\n",
    "\n",
    "w,b = train(10, X_train, y_train, w, b)\n",
    "print(predict(X_train,w,b))"
   ]
  },
  {
   "cell_type": "code",
   "execution_count": 72,
   "id": "01bb1953",
   "metadata": {},
   "outputs": [
    {
     "name": "stdout",
     "output_type": "stream",
     "text": [
      "[123.25815223 123.25815223 123.25815223 123.25815233 123.25815233\n",
      " 123.25815233 123.25815244 123.25815266 123.2581531  123.25815255\n",
      " 123.25815321 123.25815519 123.25815266 123.25815398 123.25815925\n",
      " 123.25815277 123.25815497 123.25816595 123.25815288 123.25815618\n",
      " 123.25817593 123.25815299 123.2581576  123.25818987 123.2581531\n",
      " 123.25815925 123.25820843 123.25815321 123.25816112 123.25823224\n",
      " 123.25815332 123.2581632  123.25826199 123.25815343 123.25816551\n",
      " 123.25829832 123.25815354 123.25816803 123.2583419  123.25815365\n",
      " 123.25817078 123.25839338 123.25815376 123.25817374 123.25845342\n",
      " 123.25815387 123.25817692 123.25852268 123.25815398 123.25818033\n",
      " 123.25860183 123.25815409 123.25818395 123.2586915  123.2581542\n",
      " 123.25818779 123.25879238 123.25815431 123.25819185 123.25890511]\n"
     ]
    },
    {
     "name": "stderr",
     "output_type": "stream",
     "text": [
      "/Users/user/.pyenv/versions/3.9.2/lib/python3.9/site-packages/sklearn/utils/validation.py:1184: DataConversionWarning: A column-vector y was passed when a 1d array was expected. Please change the shape of y to (n_samples, ), for example using ravel().\n",
      "  y = column_or_1d(y, warn=True)\n",
      "/Users/user/.pyenv/versions/3.9.2/lib/python3.9/site-packages/sklearn/linear_model/_stochastic_gradient.py:1561: ConvergenceWarning: Maximum number of iteration reached before convergence. Consider increasing max_iter to improve the fit.\n",
      "  warnings.warn(\n"
     ]
    }
   ],
   "source": [
    "from sklearn.linear_model import SGDRegressor\n",
    "\n",
    "model = SGDRegressor(loss='squared_error', learning_rate='constant', eta0=0.01, max_iter=10, shuffle=True, random_state=777)\n",
    "\n",
    "model.fit(X_train, y_train)\n",
    "print(model.predict(X_train))\n",
    "#print(model.score(X_train, y_train)) "
   ]
  },
  {
   "cell_type": "code",
   "execution_count": null,
   "id": "37f00128",
   "metadata": {},
   "outputs": [],
   "source": []
  }
 ],
 "metadata": {
  "kernelspec": {
   "display_name": "Python 3 (ipykernel)",
   "language": "python",
   "name": "python3"
  },
  "language_info": {
   "codemirror_mode": {
    "name": "ipython",
    "version": 3
   },
   "file_extension": ".py",
   "mimetype": "text/x-python",
   "name": "python",
   "nbconvert_exporter": "python",
   "pygments_lexer": "ipython3",
   "version": "3.9.2"
  }
 },
 "nbformat": 4,
 "nbformat_minor": 5
}
