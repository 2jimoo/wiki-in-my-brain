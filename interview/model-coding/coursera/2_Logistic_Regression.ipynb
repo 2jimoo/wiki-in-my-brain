{
 "cells": [
  {
   "cell_type": "code",
   "execution_count": 69,
   "id": "1da8bf08",
   "metadata": {},
   "outputs": [],
   "source": [
    "import numpy as np"
   ]
  },
  {
   "cell_type": "markdown",
   "id": "cd0fc0f3",
   "metadata": {},
   "source": [
    "# Linear Decision boundaries\n",
    "- Logistic Regression"
   ]
  },
  {
   "cell_type": "code",
   "execution_count": 70,
   "id": "8e5f8379",
   "metadata": {},
   "outputs": [],
   "source": [
    "def sigmoid(z):\n",
    "    #return 1 / (1- np.exp(z))\n",
    "    return 1/(1+np.exp(-z))"
   ]
  },
  {
   "cell_type": "code",
   "execution_count": 71,
   "id": "8e12d700",
   "metadata": {},
   "outputs": [],
   "source": [
    "x_train = np.array([0., 1, 2, 3, 4, 5])\n",
    "y_train = np.array([0,  0, 0, 1, 1, 1])\n",
    "\n",
    "w_in = np.zeros((1))\n",
    "b_in = 0"
   ]
  },
  {
   "cell_type": "code",
   "execution_count": 87,
   "id": "3fff0ec7",
   "metadata": {},
   "outputs": [
    {
     "name": "stdout",
     "output_type": "stream",
     "text": [
      "y:[0 0 0 1 1 1]\n",
      " _y:[0. 0. 0. 0. 0. 0.]\n"
     ]
    },
    {
     "name": "stderr",
     "output_type": "stream",
     "text": [
      "/var/folders/41/615730cj21lfyfd4hqhcdcbr0000gn/T/ipykernel_3413/3537664300.py:6: DeprecationWarning: Conversion of an array with ndim > 0 to a scalar is deprecated, and will error in future. Ensure you extract a single element from your array before performing this operation. (Deprecated NumPy 1.25.)\n",
      "  pred_y[i]= sigmoid(z)\n"
     ]
    }
   ],
   "source": [
    "threshold=0.5\n",
    "def predict(x, w, b):\n",
    "    pred_y=np.zeros(len(x))\n",
    "    for i, _x in enumerate(x):\n",
    "        z= np.dot(w, _x)+b\n",
    "        pred_y[i]= sigmoid(z)\n",
    "    return np.round(pred_y)\n",
    "\n",
    "print(f'y:{y_train}\\n _y:{predict(x_train, w_in, b_in)}')"
   ]
  },
  {
   "cell_type": "markdown",
   "id": "74954ac7",
   "metadata": {},
   "source": [
    "# Non-linear Decision boundaries\n",
    "- Polinomial Logistic Regression"
   ]
  },
  {
   "cell_type": "code",
   "execution_count": 73,
   "id": "82b39cfb",
   "metadata": {},
   "outputs": [
    {
     "data": {
      "text/plain": [
       "(6, 2)"
      ]
     },
     "execution_count": 73,
     "metadata": {},
     "output_type": "execute_result"
    }
   ],
   "source": [
    "x_train2 = np.c_[x_train, x_train**2]\n",
    "x_train2.shape"
   ]
  },
  {
   "cell_type": "code",
   "execution_count": 74,
   "id": "7f6b4f9d",
   "metadata": {},
   "outputs": [],
   "source": [
    "w_in2 = np.zeros((2))\n",
    "b_in2 = 0"
   ]
  },
  {
   "cell_type": "code",
   "execution_count": 75,
   "id": "01476457",
   "metadata": {},
   "outputs": [
    {
     "name": "stdout",
     "output_type": "stream",
     "text": [
      "y:[0 0 0 1 1 1]\n",
      " _y:[0 0 0 0 0 0]\n"
     ]
    }
   ],
   "source": [
    "threshold=0.5\n",
    "def predict(x, w, b):\n",
    "    z= np.dot(x, w) + b\n",
    "    pred_y= sigmoid(z) \n",
    "#     pred_y=np.zeros(len(x))\n",
    "#     for i, _x in enumerate(x):\n",
    "#         z= np.dot(w, _x)+b\n",
    "#         pred_y[i]= sigmoid(z)\n",
    "    return np.array([0 if threshold <= _y else 1 for _y in pred_y])\n",
    "\n",
    "print(f'y:{y_train}\\n _y:{predict(x_train2, w_in2, b_in2)}')"
   ]
  },
  {
   "cell_type": "markdown",
   "id": "cf00a966",
   "metadata": {},
   "source": [
    "# Cost Function\n",
    "- 선형회귀에서 사용한 MSE는 로지스틱 회귀에서는 non-convex(local minima 짱 많음)\n",
    "- BCE\n",
    "    - 실제 레이블이 1이면 -log(pred_y)\n",
    "    - 실제 레이블이 0이멸 -log(1-pred_y)\n",
    "    - 조건으로 안 나누고 '-y_true*np.log(y_hat)-(1-y_true)*np.log(1-y_hat)'하면 동일함"
   ]
  },
  {
   "cell_type": "code",
   "execution_count": 79,
   "id": "021c071d",
   "metadata": {},
   "outputs": [
    {
     "name": "stdout",
     "output_type": "stream",
     "text": [
      "cost:17.269388197455342\n"
     ]
    }
   ],
   "source": [
    "def cost(y, pred_y):\n",
    "    m = len(y)\n",
    "    epsilon = 1e-15  # Small value to avoid log(0)\n",
    "    pred_y = np.clip(pred_y, epsilon, 1 - epsilon)  # Clip predictions\n",
    "    loss= np.sum([-y_true*np.log(y_hat)-(1.-y_true)*np.log(1.-y_hat) for y_hat, y_true in zip(pred_y, y)])\n",
    "    #loss =np.sum([-np.log(y_hat) if y_true else -np.log(1-y_hat) for y_hat, y_true in zip(pred_y, y)])\n",
    "#     loss=0\n",
    "#     for y_hat, y_true in zip(pred_y, y):\n",
    "#         error = -y_true*np.log(y_hat)-(1-y_true)*np.log(1-y_hat)\n",
    "#         loss = loss + error\n",
    "#         print(f'y_hat:{y_hat}, y_true:{y_true}, error:{error}, loss:{loss}')\n",
    "    loss=  loss / m\n",
    "    return loss\n",
    "\n",
    "pred_y=predict(x_train2, w_in2, b_in2)\n",
    "print(f'cost:{cost(y_train, pred_y)}')"
   ]
  },
  {
   "cell_type": "markdown",
   "id": "d89345fb",
   "metadata": {},
   "source": [
    "# Gradient Descent w Regularization\n",
    "- dw = 1/m*sum(y_hat-y_true)*x\n",
    "- db = 1/m*sum(y_hat-y_true)\n",
    "- https://www.coursera.org/learn/machine-learning/ungradedLab/KtxCL/optional-lab-gradient-descent-for-logistic-regression/lab?path=%2Fnotebooks%2FC1_W3_Lab06_Gradient_Descent_Soln.ipynb\n",
    "- regul/2m * sum(w)\n",
    "- https://www.coursera.org/learn/machine-learning/ungradedLab/36A9A/optional-lab-regularization/lab?path=%2Fnotebooks%2FC1_W3_Lab09_Regularization_Soln.ipynb"
   ]
  },
  {
   "cell_type": "code",
   "execution_count": 89,
   "id": "a623e1db",
   "metadata": {},
   "outputs": [
    {
     "name": "stdout",
     "output_type": "stream",
     "text": [
      "cost:11.51319199744696\n"
     ]
    }
   ],
   "source": [
    "def train(x, y, epoch=10, lr= 1e-3):\n",
    "    n_samples, n_features= x.shape\n",
    "    w = np.zeros((n_features))\n",
    "    b = 0\n",
    "    epsilon = 1e-15  \n",
    "    for _ in range(epoch):\n",
    "        z= np.dot(x, w) + b\n",
    "        #pred_y= np.round(sigmoid(z)) \n",
    "        pred_y = np.clip(sigmoid(z), epsilon, 1 - epsilon)\n",
    "        #dw = np.sum(np.dot((pred_y-y).T,x))\n",
    "        dw = np.dot((pred_y-y).T,x)/ n_samples\n",
    "        db = np.sum(pred_y-y) / n_samples\n",
    "        w = w - lr*dw\n",
    "        b = b - lr*db\n",
    "#         print(f'w:{w}, b:{b}')\n",
    "#     print(f'w:{w}, b:{b}')\n",
    "    return w, b\n",
    "\n",
    "w, b =train(x_train2, y_train)\n",
    "pred_y=predict(x_train2,w, b)\n",
    "print(f'cost:{cost(y_train, pred_y)}')"
   ]
  },
  {
   "cell_type": "code",
   "execution_count": 90,
   "id": "65777c24",
   "metadata": {},
   "outputs": [
    {
     "name": "stdout",
     "output_type": "stream",
     "text": [
      "cost:11.51319199744696\n"
     ]
    }
   ],
   "source": [
    "def train(x, y, epoch=10, lr= 1e-3, regl=1e-5):\n",
    "    n_samples, n_features= x.shape\n",
    "    w = np.zeros((n_features))\n",
    "    b = 0\n",
    "    epsilon = 1e-15  \n",
    "    for _ in range(epoch):\n",
    "        z= np.dot(x, w) + b\n",
    "        pred_y= sigmoid(z)\n",
    "        pred_y = np.clip(sigmoid(z), epsilon, 1 - epsilon)\n",
    "        dw =(np.dot((pred_y-y).T,x)+ regl*w)/n_samples\n",
    "        db = np.sum(pred_y-y)/n_samples\n",
    "        w = w - lr*dw\n",
    "        b = b - lr*db\n",
    "#         print(f'w:{w}, b:{b}')\n",
    "#     print(f'w:{w}, b:{b}')\n",
    "    return w, b\n",
    "\n",
    "w, b =train(x_train2, y_train)\n",
    "pred_y=predict(x_train2,w, b)\n",
    "print(f'cost:{cost(y_train, pred_y)}')"
   ]
  },
  {
   "cell_type": "markdown",
   "id": "105f2cf5",
   "metadata": {},
   "source": [
    "# Sklearn\n",
    "- https://www.coursera.org/learn/machine-learning/ungradedLab/F3ZpI/optional-lab-logistic-regression-with-scikit-learn/lab?path=%2Fnotebooks%2FC1_W3_Lab07_Scikit_Learn_Soln.ipynb\n",
    "- https://velog.io/@gayeon/%EB%8D%B0%EC%9D%B4%ED%84%B0-%EB%B6%84%EC%84%9D-%EC%B4%88%EB%B3%B4%EC%9E%90%EB%A5%BC-%EC%9C%84%ED%95%9C-Logistic-Regression-with-Scikit-Learn"
   ]
  },
  {
   "cell_type": "code",
   "execution_count": 62,
   "id": "9bd2950d",
   "metadata": {},
   "outputs": [
    {
     "name": "stdout",
     "output_type": "stream",
     "text": [
      "validation 데이터셋 정확도\n"
     ]
    },
    {
     "data": {
      "text/plain": [
       "1.0"
      ]
     },
     "execution_count": 62,
     "metadata": {},
     "output_type": "execute_result"
    }
   ],
   "source": [
    "from sklearn.linear_model import LogisticRegression\n",
    "\n",
    "# 모델 생성 및 학습 시키기\n",
    "logistic = LogisticRegression()\n",
    "logistic.fit(x_train2, y_train)\n",
    "\n",
    "# 결과 확인\n",
    "logistic.score(x_train2, y_train)"
   ]
  },
  {
   "cell_type": "code",
   "execution_count": null,
   "id": "833f6ac1",
   "metadata": {},
   "outputs": [],
   "source": []
  }
 ],
 "metadata": {
  "kernelspec": {
   "display_name": "Python 3 (ipykernel)",
   "language": "python",
   "name": "python3"
  },
  "language_info": {
   "codemirror_mode": {
    "name": "ipython",
    "version": 3
   },
   "file_extension": ".py",
   "mimetype": "text/x-python",
   "name": "python",
   "nbconvert_exporter": "python",
   "pygments_lexer": "ipython3",
   "version": "3.9.2"
  }
 },
 "nbformat": 4,
 "nbformat_minor": 5
}
