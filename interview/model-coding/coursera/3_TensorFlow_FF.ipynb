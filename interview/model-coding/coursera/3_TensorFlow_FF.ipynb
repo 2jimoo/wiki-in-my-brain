{
 "cells": [
  {
   "cell_type": "code",
   "execution_count": 2,
   "id": "2ec197d6",
   "metadata": {},
   "outputs": [],
   "source": [
    "import tensorflow as tf\n",
    "from tensorflow.keras import Sequential\n",
    "from tensorflow.keras.layers import Dense, Input\n",
    "from tensorflow.keras.losses import MeanSquaredError, BinaryCrossentropy\n",
    "from tensorflow.keras.activations import sigmoid"
   ]
  },
  {
   "cell_type": "code",
   "execution_count": 3,
   "id": "4fe6f5c2",
   "metadata": {},
   "outputs": [],
   "source": [
    "import numpy as np"
   ]
  },
  {
   "cell_type": "markdown",
   "id": "24953f50",
   "metadata": {},
   "source": [
    "# Regression\n",
    "- naive python feedforward 구현과 비교"
   ]
  },
  {
   "cell_type": "code",
   "execution_count": 11,
   "id": "0664c5ff",
   "metadata": {},
   "outputs": [],
   "source": [
    "X_train = np.array([[1.0], [2.0]], dtype=np.float32)           #(size in 1000 square feet)\n",
    "Y_train = np.array([[300.0], [500.0]], dtype=np.float32)       #(price in 1000s of dollars)"
   ]
  },
  {
   "cell_type": "code",
   "execution_count": 12,
   "id": "69820239",
   "metadata": {},
   "outputs": [],
   "source": [
    "linear_layer = tf.keras.layers.Dense(units=1, activation = 'linear', )"
   ]
  },
  {
   "cell_type": "code",
   "execution_count": 13,
   "id": "d570d5a6",
   "metadata": {},
   "outputs": [
    {
     "name": "stderr",
     "output_type": "stream",
     "text": [
      "/Users/user/.pyenv/versions/3.9.2/lib/python3.9/site-packages/keras/src/layers/core/dense.py:87: UserWarning: Do not pass an `input_shape`/`input_dim` argument to a layer. When using Sequential models, prefer using an `Input(shape)` object as the first layer in the model instead.\n",
      "  super().__init__(activity_regularizer=activity_regularizer, **kwargs)\n"
     ]
    }
   ],
   "source": [
    "model = Sequential(\n",
    "    [\n",
    "        tf.keras.layers.Dense(1, input_dim=1,  activation = 'sigmoid', name='L1')\n",
    "    ]\n",
    ")"
   ]
  },
  {
   "cell_type": "code",
   "execution_count": 14,
   "id": "6d5a2110",
   "metadata": {},
   "outputs": [
    {
     "data": {
      "text/html": [
       "<pre style=\"white-space:pre;overflow-x:auto;line-height:normal;font-family:Menlo,'DejaVu Sans Mono',consolas,'Courier New',monospace\"><span style=\"font-weight: bold\">Model: \"sequential\"</span>\n",
       "</pre>\n"
      ],
      "text/plain": [
       "\u001b[1mModel: \"sequential\"\u001b[0m\n"
      ]
     },
     "metadata": {},
     "output_type": "display_data"
    },
    {
     "data": {
      "text/html": [
       "<pre style=\"white-space:pre;overflow-x:auto;line-height:normal;font-family:Menlo,'DejaVu Sans Mono',consolas,'Courier New',monospace\">┏━━━━━━━━━━━━━━━━━━━━━━━━━━━━━━━━━┳━━━━━━━━━━━━━━━━━━━━━━━━┳━━━━━━━━━━━━━━━┓\n",
       "┃<span style=\"font-weight: bold\"> Layer (type)                    </span>┃<span style=\"font-weight: bold\"> Output Shape           </span>┃<span style=\"font-weight: bold\">       Param # </span>┃\n",
       "┡━━━━━━━━━━━━━━━━━━━━━━━━━━━━━━━━━╇━━━━━━━━━━━━━━━━━━━━━━━━╇━━━━━━━━━━━━━━━┩\n",
       "│ L1 (<span style=\"color: #0087ff; text-decoration-color: #0087ff\">Dense</span>)                      │ (<span style=\"color: #00d7ff; text-decoration-color: #00d7ff\">None</span>, <span style=\"color: #00af00; text-decoration-color: #00af00\">1</span>)              │             <span style=\"color: #00af00; text-decoration-color: #00af00\">2</span> │\n",
       "└─────────────────────────────────┴────────────────────────┴───────────────┘\n",
       "</pre>\n"
      ],
      "text/plain": [
       "┏━━━━━━━━━━━━━━━━━━━━━━━━━━━━━━━━━┳━━━━━━━━━━━━━━━━━━━━━━━━┳━━━━━━━━━━━━━━━┓\n",
       "┃\u001b[1m \u001b[0m\u001b[1mLayer (type)                   \u001b[0m\u001b[1m \u001b[0m┃\u001b[1m \u001b[0m\u001b[1mOutput Shape          \u001b[0m\u001b[1m \u001b[0m┃\u001b[1m \u001b[0m\u001b[1m      Param #\u001b[0m\u001b[1m \u001b[0m┃\n",
       "┡━━━━━━━━━━━━━━━━━━━━━━━━━━━━━━━━━╇━━━━━━━━━━━━━━━━━━━━━━━━╇━━━━━━━━━━━━━━━┩\n",
       "│ L1 (\u001b[38;5;33mDense\u001b[0m)                      │ (\u001b[38;5;45mNone\u001b[0m, \u001b[38;5;34m1\u001b[0m)              │             \u001b[38;5;34m2\u001b[0m │\n",
       "└─────────────────────────────────┴────────────────────────┴───────────────┘\n"
      ]
     },
     "metadata": {},
     "output_type": "display_data"
    },
    {
     "data": {
      "text/html": [
       "<pre style=\"white-space:pre;overflow-x:auto;line-height:normal;font-family:Menlo,'DejaVu Sans Mono',consolas,'Courier New',monospace\"><span style=\"font-weight: bold\"> Total params: </span><span style=\"color: #00af00; text-decoration-color: #00af00\">2</span> (8.00 B)\n",
       "</pre>\n"
      ],
      "text/plain": [
       "\u001b[1m Total params: \u001b[0m\u001b[38;5;34m2\u001b[0m (8.00 B)\n"
      ]
     },
     "metadata": {},
     "output_type": "display_data"
    },
    {
     "data": {
      "text/html": [
       "<pre style=\"white-space:pre;overflow-x:auto;line-height:normal;font-family:Menlo,'DejaVu Sans Mono',consolas,'Courier New',monospace\"><span style=\"font-weight: bold\"> Trainable params: </span><span style=\"color: #00af00; text-decoration-color: #00af00\">2</span> (8.00 B)\n",
       "</pre>\n"
      ],
      "text/plain": [
       "\u001b[1m Trainable params: \u001b[0m\u001b[38;5;34m2\u001b[0m (8.00 B)\n"
      ]
     },
     "metadata": {},
     "output_type": "display_data"
    },
    {
     "data": {
      "text/html": [
       "<pre style=\"white-space:pre;overflow-x:auto;line-height:normal;font-family:Menlo,'DejaVu Sans Mono',consolas,'Courier New',monospace\"><span style=\"font-weight: bold\"> Non-trainable params: </span><span style=\"color: #00af00; text-decoration-color: #00af00\">0</span> (0.00 B)\n",
       "</pre>\n"
      ],
      "text/plain": [
       "\u001b[1m Non-trainable params: \u001b[0m\u001b[38;5;34m0\u001b[0m (0.00 B)\n"
      ]
     },
     "metadata": {},
     "output_type": "display_data"
    }
   ],
   "source": [
    "model.summary()"
   ]
  },
  {
   "cell_type": "code",
   "execution_count": 16,
   "id": "72a2c2cd",
   "metadata": {},
   "outputs": [
    {
     "name": "stdout",
     "output_type": "stream",
     "text": [
      "\u001b[1m1/1\u001b[0m \u001b[32m━━━━━━━━━━━━━━━━━━━━\u001b[0m\u001b[37m\u001b[0m \u001b[1m0s\u001b[0m 14ms/step\n",
      "[[0.57078403]]\n"
     ]
    }
   ],
   "source": [
    "a1 = model.predict(X_train[0].reshape(1,1))\n",
    "print(a1)"
   ]
  },
  {
   "cell_type": "code",
   "execution_count": null,
   "id": "dc00ba5c",
   "metadata": {},
   "outputs": [],
   "source": [
    "# Define the activation function\n",
    "g = sigmoid\n",
    "\n",
    "def my_dense(a_in, W, b):\n",
    "    \"\"\"\n",
    "    Computes dense layer\n",
    "    Args:\n",
    "      a_in (ndarray (n, )) : Data, 1 example \n",
    "      W    (ndarray (n,j)) : Weight matrix, n features per unit, j units\n",
    "      b    (ndarray (j, )) : bias vector, j units  \n",
    "    Returns\n",
    "      a_out (ndarray (j,))  : j units|\n",
    "    \"\"\"\n",
    "    units = W.shape[1]\n",
    "    a_out = np.zeros(units)\n",
    "    for j in range(units):               \n",
    "        w = W[:,j]                                    \n",
    "        z = np.dot(w, a_in) + b[j]         \n",
    "        a_out[j] = g(z)               \n",
    "    return(a_out)\n",
    "\n",
    "def my_sequential(x, W1, b1, W2, b2):\n",
    "    a1 = my_dense(x,  W1, b1)\n",
    "    a2 = my_dense(a1, W2, b2)\n",
    "    return(a2)"
   ]
  },
  {
   "cell_type": "markdown",
   "id": "e61cd02b",
   "metadata": {},
   "source": [
    "# Example\n",
    "- 커피 로스팅, 변수(로스팅 시간, 온도 2개)\n",
    "- 좋은 커피 나쁜 커피 분류"
   ]
  },
  {
   "cell_type": "code",
   "execution_count": 28,
   "id": "0802b7f5",
   "metadata": {},
   "outputs": [],
   "source": [
    "# np.save(\"coffee_x\", arr=X)\n",
    "# np.save(\"coffee_y\", arr=Y)\n",
    "X= np.load(\"coffee_x.npy\")\n",
    "Y= np.load(\"coffee_y.npy\")"
   ]
  },
  {
   "cell_type": "code",
   "execution_count": 29,
   "id": "def877f7",
   "metadata": {},
   "outputs": [],
   "source": [
    "from tensorflow.keras.layers import Normalization\n",
    "norm_l=Normalization(axis=-1)\n",
    "norm_l.adapt(X)\n",
    "Xn = norm_l(X)"
   ]
  },
  {
   "cell_type": "code",
   "execution_count": 30,
   "id": "dc84e7a5",
   "metadata": {},
   "outputs": [],
   "source": [
    "tf.random.set_seed(1234)  # applied to achieve consistent results\n",
    "model = Sequential(\n",
    "    [\n",
    "        tf.keras.Input(shape=(2,)),\n",
    "        Dense(3, activation='sigmoid', name = 'layer1'),\n",
    "        Dense(1, activation='sigmoid', name = 'layer2')\n",
    "     ]\n",
    ")"
   ]
  },
  {
   "cell_type": "code",
   "execution_count": 31,
   "id": "6b554d75",
   "metadata": {},
   "outputs": [
    {
     "data": {
      "text/html": [
       "<pre style=\"white-space:pre;overflow-x:auto;line-height:normal;font-family:Menlo,'DejaVu Sans Mono',consolas,'Courier New',monospace\"><span style=\"font-weight: bold\">Model: \"sequential_2\"</span>\n",
       "</pre>\n"
      ],
      "text/plain": [
       "\u001b[1mModel: \"sequential_2\"\u001b[0m\n"
      ]
     },
     "metadata": {},
     "output_type": "display_data"
    },
    {
     "data": {
      "text/html": [
       "<pre style=\"white-space:pre;overflow-x:auto;line-height:normal;font-family:Menlo,'DejaVu Sans Mono',consolas,'Courier New',monospace\">┏━━━━━━━━━━━━━━━━━━━━━━━━━━━━━━━━━┳━━━━━━━━━━━━━━━━━━━━━━━━┳━━━━━━━━━━━━━━━┓\n",
       "┃<span style=\"font-weight: bold\"> Layer (type)                    </span>┃<span style=\"font-weight: bold\"> Output Shape           </span>┃<span style=\"font-weight: bold\">       Param # </span>┃\n",
       "┡━━━━━━━━━━━━━━━━━━━━━━━━━━━━━━━━━╇━━━━━━━━━━━━━━━━━━━━━━━━╇━━━━━━━━━━━━━━━┩\n",
       "│ layer1 (<span style=\"color: #0087ff; text-decoration-color: #0087ff\">Dense</span>)                  │ (<span style=\"color: #00d7ff; text-decoration-color: #00d7ff\">None</span>, <span style=\"color: #00af00; text-decoration-color: #00af00\">3</span>)              │             <span style=\"color: #00af00; text-decoration-color: #00af00\">9</span> │\n",
       "├─────────────────────────────────┼────────────────────────┼───────────────┤\n",
       "│ layer2 (<span style=\"color: #0087ff; text-decoration-color: #0087ff\">Dense</span>)                  │ (<span style=\"color: #00d7ff; text-decoration-color: #00d7ff\">None</span>, <span style=\"color: #00af00; text-decoration-color: #00af00\">1</span>)              │             <span style=\"color: #00af00; text-decoration-color: #00af00\">4</span> │\n",
       "└─────────────────────────────────┴────────────────────────┴───────────────┘\n",
       "</pre>\n"
      ],
      "text/plain": [
       "┏━━━━━━━━━━━━━━━━━━━━━━━━━━━━━━━━━┳━━━━━━━━━━━━━━━━━━━━━━━━┳━━━━━━━━━━━━━━━┓\n",
       "┃\u001b[1m \u001b[0m\u001b[1mLayer (type)                   \u001b[0m\u001b[1m \u001b[0m┃\u001b[1m \u001b[0m\u001b[1mOutput Shape          \u001b[0m\u001b[1m \u001b[0m┃\u001b[1m \u001b[0m\u001b[1m      Param #\u001b[0m\u001b[1m \u001b[0m┃\n",
       "┡━━━━━━━━━━━━━━━━━━━━━━━━━━━━━━━━━╇━━━━━━━━━━━━━━━━━━━━━━━━╇━━━━━━━━━━━━━━━┩\n",
       "│ layer1 (\u001b[38;5;33mDense\u001b[0m)                  │ (\u001b[38;5;45mNone\u001b[0m, \u001b[38;5;34m3\u001b[0m)              │             \u001b[38;5;34m9\u001b[0m │\n",
       "├─────────────────────────────────┼────────────────────────┼───────────────┤\n",
       "│ layer2 (\u001b[38;5;33mDense\u001b[0m)                  │ (\u001b[38;5;45mNone\u001b[0m, \u001b[38;5;34m1\u001b[0m)              │             \u001b[38;5;34m4\u001b[0m │\n",
       "└─────────────────────────────────┴────────────────────────┴───────────────┘\n"
      ]
     },
     "metadata": {},
     "output_type": "display_data"
    },
    {
     "data": {
      "text/html": [
       "<pre style=\"white-space:pre;overflow-x:auto;line-height:normal;font-family:Menlo,'DejaVu Sans Mono',consolas,'Courier New',monospace\"><span style=\"font-weight: bold\"> Total params: </span><span style=\"color: #00af00; text-decoration-color: #00af00\">13</span> (52.00 B)\n",
       "</pre>\n"
      ],
      "text/plain": [
       "\u001b[1m Total params: \u001b[0m\u001b[38;5;34m13\u001b[0m (52.00 B)\n"
      ]
     },
     "metadata": {},
     "output_type": "display_data"
    },
    {
     "data": {
      "text/html": [
       "<pre style=\"white-space:pre;overflow-x:auto;line-height:normal;font-family:Menlo,'DejaVu Sans Mono',consolas,'Courier New',monospace\"><span style=\"font-weight: bold\"> Trainable params: </span><span style=\"color: #00af00; text-decoration-color: #00af00\">13</span> (52.00 B)\n",
       "</pre>\n"
      ],
      "text/plain": [
       "\u001b[1m Trainable params: \u001b[0m\u001b[38;5;34m13\u001b[0m (52.00 B)\n"
      ]
     },
     "metadata": {},
     "output_type": "display_data"
    },
    {
     "data": {
      "text/html": [
       "<pre style=\"white-space:pre;overflow-x:auto;line-height:normal;font-family:Menlo,'DejaVu Sans Mono',consolas,'Courier New',monospace\"><span style=\"font-weight: bold\"> Non-trainable params: </span><span style=\"color: #00af00; text-decoration-color: #00af00\">0</span> (0.00 B)\n",
       "</pre>\n"
      ],
      "text/plain": [
       "\u001b[1m Non-trainable params: \u001b[0m\u001b[38;5;34m0\u001b[0m (0.00 B)\n"
      ]
     },
     "metadata": {},
     "output_type": "display_data"
    }
   ],
   "source": [
    "model.summary()"
   ]
  },
  {
   "cell_type": "code",
   "execution_count": 32,
   "id": "276667af",
   "metadata": {},
   "outputs": [
    {
     "name": "stdout",
     "output_type": "stream",
     "text": [
      "(200000, 2) (200000, 1)\n"
     ]
    }
   ],
   "source": [
    "#Tile/copy our data to increase the training set size and reduce the number of training epochs.\n",
    "Xt = np.tile(Xn,(1000,1))\n",
    "Yt= np.tile(Y,(1000,1))   \n",
    "print(Xt.shape, Yt.shape)   "
   ]
  },
  {
   "cell_type": "code",
   "execution_count": 33,
   "id": "28c6cf27",
   "metadata": {},
   "outputs": [
    {
     "name": "stdout",
     "output_type": "stream",
     "text": [
      "Epoch 1/10\n",
      "\u001b[1m6250/6250\u001b[0m \u001b[32m━━━━━━━━━━━━━━━━━━━━\u001b[0m\u001b[37m\u001b[0m \u001b[1m2s\u001b[0m 307us/step - loss: 0.2673\n",
      "Epoch 2/10\n",
      "\u001b[1m6250/6250\u001b[0m \u001b[32m━━━━━━━━━━━━━━━━━━━━\u001b[0m\u001b[37m\u001b[0m \u001b[1m2s\u001b[0m 300us/step - loss: 0.0360\n",
      "Epoch 3/10\n",
      "\u001b[1m6250/6250\u001b[0m \u001b[32m━━━━━━━━━━━━━━━━━━━━\u001b[0m\u001b[37m\u001b[0m \u001b[1m2s\u001b[0m 295us/step - loss: 0.0168\n",
      "Epoch 4/10\n",
      "\u001b[1m6250/6250\u001b[0m \u001b[32m━━━━━━━━━━━━━━━━━━━━\u001b[0m\u001b[37m\u001b[0m \u001b[1m2s\u001b[0m 284us/step - loss: 0.0103\n",
      "Epoch 5/10\n",
      "\u001b[1m6250/6250\u001b[0m \u001b[32m━━━━━━━━━━━━━━━━━━━━\u001b[0m\u001b[37m\u001b[0m \u001b[1m2s\u001b[0m 296us/step - loss: 0.0069\n",
      "Epoch 6/10\n",
      "\u001b[1m6250/6250\u001b[0m \u001b[32m━━━━━━━━━━━━━━━━━━━━\u001b[0m\u001b[37m\u001b[0m \u001b[1m2s\u001b[0m 304us/step - loss: 0.0048\n",
      "Epoch 7/10\n",
      "\u001b[1m6250/6250\u001b[0m \u001b[32m━━━━━━━━━━━━━━━━━━━━\u001b[0m\u001b[37m\u001b[0m \u001b[1m2s\u001b[0m 297us/step - loss: 0.0033\n",
      "Epoch 8/10\n",
      "\u001b[1m6250/6250\u001b[0m \u001b[32m━━━━━━━━━━━━━━━━━━━━\u001b[0m\u001b[37m\u001b[0m \u001b[1m2s\u001b[0m 298us/step - loss: 0.0024\n",
      "Epoch 9/10\n",
      "\u001b[1m6250/6250\u001b[0m \u001b[32m━━━━━━━━━━━━━━━━━━━━\u001b[0m\u001b[37m\u001b[0m \u001b[1m2s\u001b[0m 295us/step - loss: 0.0017\n",
      "Epoch 10/10\n",
      "\u001b[1m6250/6250\u001b[0m \u001b[32m━━━━━━━━━━━━━━━━━━━━\u001b[0m\u001b[37m\u001b[0m \u001b[1m2s\u001b[0m 309us/step - loss: 0.0013\n"
     ]
    },
    {
     "data": {
      "text/plain": [
       "<keras.src.callbacks.history.History at 0x3200d8cd0>"
      ]
     },
     "execution_count": 33,
     "metadata": {},
     "output_type": "execute_result"
    }
   ],
   "source": [
    "model.compile(\n",
    "    loss = tf.keras.losses.BinaryCrossentropy(),\n",
    "    optimizer = tf.keras.optimizers.Adam(learning_rate=0.01),\n",
    ")\n",
    "\n",
    "model.fit(\n",
    "    Xt,Yt,            \n",
    "    epochs=10,\n",
    ")"
   ]
  },
  {
   "cell_type": "code",
   "execution_count": 34,
   "id": "a7dd9c1c",
   "metadata": {},
   "outputs": [
    {
     "name": "stdout",
     "output_type": "stream",
     "text": [
      "\u001b[1m7/7\u001b[0m \u001b[32m━━━━━━━━━━━━━━━━━━━━\u001b[0m\u001b[37m\u001b[0m \u001b[1m0s\u001b[0m 2ms/step \n"
     ]
    },
    {
     "data": {
      "text/plain": [
       "array([[1.00000000e+00],\n",
       "       [1.03576519e-16],\n",
       "       [8.29092528e-08],\n",
       "       [8.69087113e-23],\n",
       "       [1.00000000e+00],\n",
       "       [9.99997437e-01],\n",
       "       [8.95649208e-08],\n",
       "       [1.59376626e-07],\n",
       "       [8.29095725e-08],\n",
       "       [1.00000000e+00],\n",
       "       [1.00000000e+00],\n",
       "       [8.29095725e-08],\n",
       "       [6.10786728e-08],\n",
       "       [8.31680538e-08],\n",
       "       [7.25812098e-29],\n",
       "       [2.82845329e-15],\n",
       "       [8.29095725e-08],\n",
       "       [1.01621289e-07],\n",
       "       [8.60999094e-08],\n",
       "       [8.28640410e-08],\n",
       "       [8.29095725e-08],\n",
       "       [8.29048261e-08],\n",
       "       [1.15219343e-07],\n",
       "       [1.00000000e+00],\n",
       "       [4.29725440e-32],\n",
       "       [8.30073574e-08],\n",
       "       [8.29095725e-08],\n",
       "       [8.09800156e-08],\n",
       "       [8.29086204e-08],\n",
       "       [1.00000000e+00],\n",
       "       [1.20758292e-09],\n",
       "       [4.79495265e-02],\n",
       "       [1.12188835e-11],\n",
       "       [6.40315370e-11],\n",
       "       [8.67579928e-08],\n",
       "       [8.28864870e-08],\n",
       "       [8.29092528e-08],\n",
       "       [8.37922158e-08],\n",
       "       [1.66208949e-08],\n",
       "       [8.29124147e-08],\n",
       "       [1.03245416e-11],\n",
       "       [8.29095725e-08],\n",
       "       [9.26899182e-12],\n",
       "       [1.10391167e-11],\n",
       "       [1.62331421e-31],\n",
       "       [8.28773139e-08],\n",
       "       [8.38347148e-07],\n",
       "       [1.00000000e+00],\n",
       "       [7.09647452e-07],\n",
       "       [4.14766332e-10],\n",
       "       [1.00000000e+00],\n",
       "       [1.00000000e+00],\n",
       "       [8.29095725e-08],\n",
       "       [1.84291438e-13],\n",
       "       [8.29067233e-08],\n",
       "       [7.42482294e-16],\n",
       "       [8.51081765e-08],\n",
       "       [8.29095725e-08],\n",
       "       [4.39642101e-08],\n",
       "       [8.29095725e-08],\n",
       "       [1.13318964e-11],\n",
       "       [4.38780518e-07],\n",
       "       [8.26900504e-08],\n",
       "       [8.29089402e-08],\n",
       "       [8.27607352e-08],\n",
       "       [8.29095725e-08],\n",
       "       [2.10787231e-28],\n",
       "       [8.29089402e-08],\n",
       "       [9.99241829e-01],\n",
       "       [1.00000000e+00],\n",
       "       [3.18034287e-32],\n",
       "       [8.29095725e-08],\n",
       "       [9.99805689e-01],\n",
       "       [8.28011579e-08],\n",
       "       [9.58065512e-31],\n",
       "       [3.57357663e-08],\n",
       "       [5.08443236e-07],\n",
       "       [9.23449261e-05],\n",
       "       [1.30664262e-07],\n",
       "       [8.29098852e-08],\n",
       "       [3.22620473e-08],\n",
       "       [5.75157799e-07],\n",
       "       [8.29076754e-08],\n",
       "       [8.29095725e-08],\n",
       "       [5.81841562e-08],\n",
       "       [1.00000000e+00],\n",
       "       [1.00000000e+00],\n",
       "       [7.82227780e-16],\n",
       "       [8.29684197e-08],\n",
       "       [8.28738393e-08],\n",
       "       [8.29095725e-08],\n",
       "       [7.81077609e-14],\n",
       "       [1.39489496e-11],\n",
       "       [1.57549255e-28],\n",
       "       [8.29095725e-08],\n",
       "       [5.95682721e-08],\n",
       "       [8.99031584e-05],\n",
       "       [2.86984637e-11],\n",
       "       [1.36839021e-11],\n",
       "       [1.00000000e+00],\n",
       "       [3.22636460e-08],\n",
       "       [1.00000000e+00],\n",
       "       [9.87984419e-01],\n",
       "       [3.16077617e-08],\n",
       "       [1.00000000e+00],\n",
       "       [8.14139582e-08],\n",
       "       [8.29095725e-08],\n",
       "       [3.57519725e-09],\n",
       "       [8.29095725e-08],\n",
       "       [5.58144695e-15],\n",
       "       [4.96250379e-07],\n",
       "       [8.29095725e-08],\n",
       "       [3.62820494e-08],\n",
       "       [1.48135456e-07],\n",
       "       [1.43557052e-12],\n",
       "       [1.86091929e-04],\n",
       "       [9.41153419e-22],\n",
       "       [1.37344199e-11],\n",
       "       [1.00000000e+00],\n",
       "       [9.55584049e-01],\n",
       "       [8.29095725e-08],\n",
       "       [1.04528677e-03],\n",
       "       [2.44533430e-12],\n",
       "       [9.99999940e-01],\n",
       "       [9.99942839e-01],\n",
       "       [1.30195227e-02],\n",
       "       [8.28883842e-08],\n",
       "       [1.00000000e+00],\n",
       "       [5.04074618e-03],\n",
       "       [1.16734721e-11],\n",
       "       [1.00000000e+00],\n",
       "       [1.54791186e-02],\n",
       "       [6.04517709e-07],\n",
       "       [8.26046076e-08],\n",
       "       [1.00000000e+00],\n",
       "       [1.05689780e-11],\n",
       "       [8.29095725e-08],\n",
       "       [7.48280158e-08],\n",
       "       [1.41975598e-11],\n",
       "       [1.00000000e+00],\n",
       "       [4.47836299e-12],\n",
       "       [4.80967195e-08],\n",
       "       [1.31262459e-10],\n",
       "       [8.33503577e-08],\n",
       "       [1.00000000e+00],\n",
       "       [1.60235696e-11],\n",
       "       [1.75000355e-03],\n",
       "       [1.00000000e+00],\n",
       "       [1.13542101e-21],\n",
       "       [8.29095725e-08],\n",
       "       [1.00000000e+00],\n",
       "       [8.29095725e-08],\n",
       "       [8.29095725e-08],\n",
       "       [8.37807050e-08],\n",
       "       [1.00000000e+00],\n",
       "       [8.30051405e-08],\n",
       "       [8.30016589e-08],\n",
       "       [8.28665705e-08],\n",
       "       [5.91935501e-10],\n",
       "       [8.29095725e-08],\n",
       "       [8.12129599e-08],\n",
       "       [1.00000000e+00],\n",
       "       [1.49348121e-11],\n",
       "       [8.29095725e-08],\n",
       "       [8.29095725e-08],\n",
       "       [1.00000000e+00],\n",
       "       [8.22684427e-08],\n",
       "       [7.99087445e-08],\n",
       "       [6.37763037e-11],\n",
       "       [1.67416022e-16],\n",
       "       [8.22097732e-08],\n",
       "       [1.47165682e-11],\n",
       "       [9.78489757e-01],\n",
       "       [9.99931633e-01],\n",
       "       [1.00000000e+00],\n",
       "       [9.80515063e-01],\n",
       "       [1.46332604e-04],\n",
       "       [8.29525959e-08],\n",
       "       [9.99376118e-01],\n",
       "       [1.00000000e+00],\n",
       "       [1.36212630e-09],\n",
       "       [8.29095725e-08],\n",
       "       [8.29095725e-08],\n",
       "       [8.29095725e-08],\n",
       "       [4.63269139e-08],\n",
       "       [2.41966375e-23],\n",
       "       [9.95687902e-01],\n",
       "       [8.29095725e-08],\n",
       "       [8.29073556e-08],\n",
       "       [8.02089488e-08],\n",
       "       [8.29095725e-08],\n",
       "       [6.91489407e-15],\n",
       "       [4.18914469e-12],\n",
       "       [9.99730170e-01],\n",
       "       [1.00000000e+00],\n",
       "       [8.29048261e-08],\n",
       "       [3.48961002e-08],\n",
       "       [8.27225435e-08],\n",
       "       [1.00000000e+00],\n",
       "       [7.68545192e-08]], dtype=float32)"
      ]
     },
     "execution_count": 34,
     "metadata": {},
     "output_type": "execute_result"
    }
   ],
   "source": [
    "model.predict(Xn)"
   ]
  },
  {
   "cell_type": "markdown",
   "id": "8e575313",
   "metadata": {},
   "source": [
    "# MINIST 손글씨 인식"
   ]
  },
  {
   "cell_type": "code",
   "execution_count": 4,
   "id": "1aa41865",
   "metadata": {},
   "outputs": [],
   "source": [
    "(x_train, y_train), (x_test, y_test) = tf.keras.datasets.mnist.load_data()"
   ]
  },
  {
   "cell_type": "code",
   "execution_count": 5,
   "id": "5de1e350",
   "metadata": {},
   "outputs": [
    {
     "data": {
      "text/plain": [
       "array([0, 1, 2, 3, 4, 5, 6, 7, 8, 9], dtype=uint8)"
      ]
     },
     "execution_count": 5,
     "metadata": {},
     "output_type": "execute_result"
    }
   ],
   "source": [
    "np.unique(y_train)"
   ]
  },
  {
   "cell_type": "code",
   "execution_count": 48,
   "id": "4838770d",
   "metadata": {},
   "outputs": [
    {
     "name": "stdout",
     "output_type": "stream",
     "text": [
      "X: (60000, 28, 28), Y:(60000,)\n"
     ]
    }
   ],
   "source": [
    "X, Y = x_train / 255.0, y_train\n",
    "X_test, Y_test= x_test / 255.0, y_test\n",
    "print(f'X: {X.shape}, Y:{Y.shape}')"
   ]
  },
  {
   "cell_type": "code",
   "execution_count": 49,
   "id": "3f731906",
   "metadata": {},
   "outputs": [
    {
     "name": "stderr",
     "output_type": "stream",
     "text": [
      "/Users/user/.pyenv/versions/3.9.2/lib/python3.9/site-packages/keras/src/layers/reshaping/flatten.py:37: UserWarning: Do not pass an `input_shape`/`input_dim` argument to a layer. When using Sequential models, prefer using an `Input(shape)` object as the first layer in the model instead.\n",
      "  super().__init__(**kwargs)\n"
     ]
    }
   ],
   "source": [
    "model = tf.keras.models.Sequential([\n",
    "  tf.keras.layers.Flatten(input_shape=(28, 28)),\n",
    "  tf.keras.layers.Dense(128, activation='relu'),\n",
    "  tf.keras.layers.Dropout(0.2),\n",
    "  tf.keras.layers.Dense(10, activation='softmax')\n",
    "])\n",
    "\n",
    "model.compile(optimizer='adam',\n",
    "              loss='sparse_categorical_crossentropy',\n",
    "              metrics=['accuracy'])"
   ]
  },
  {
   "cell_type": "code",
   "execution_count": 50,
   "id": "dd5d12dc",
   "metadata": {},
   "outputs": [
    {
     "name": "stdout",
     "output_type": "stream",
     "text": [
      "Epoch 1/5\n",
      "\u001b[1m1875/1875\u001b[0m \u001b[32m━━━━━━━━━━━━━━━━━━━━\u001b[0m\u001b[37m\u001b[0m \u001b[1m2s\u001b[0m 1ms/step - accuracy: 0.7076 - loss: 7.5486\n",
      "Epoch 2/5\n",
      "\u001b[1m1875/1875\u001b[0m \u001b[32m━━━━━━━━━━━━━━━━━━━━\u001b[0m\u001b[37m\u001b[0m \u001b[1m2s\u001b[0m 1ms/step - accuracy: 0.8345 - loss: 0.6740\n",
      "Epoch 3/5\n",
      "\u001b[1m1875/1875\u001b[0m \u001b[32m━━━━━━━━━━━━━━━━━━━━\u001b[0m\u001b[37m\u001b[0m \u001b[1m2s\u001b[0m 1ms/step - accuracy: 0.8675 - loss: 0.5263\n",
      "Epoch 4/5\n",
      "\u001b[1m1875/1875\u001b[0m \u001b[32m━━━━━━━━━━━━━━━━━━━━\u001b[0m\u001b[37m\u001b[0m \u001b[1m2s\u001b[0m 983us/step - accuracy: 0.8902 - loss: 0.4260\n",
      "Epoch 5/5\n",
      "\u001b[1m1875/1875\u001b[0m \u001b[32m━━━━━━━━━━━━━━━━━━━━\u001b[0m\u001b[37m\u001b[0m \u001b[1m2s\u001b[0m 967us/step - accuracy: 0.8961 - loss: 0.3997\n",
      "313/313 - 0s - 470us/step - accuracy: 0.9322 - loss: 0.3029\n"
     ]
    },
    {
     "data": {
      "text/plain": [
       "[0.3028797209262848, 0.932200014591217]"
      ]
     },
     "execution_count": 50,
     "metadata": {},
     "output_type": "execute_result"
    }
   ],
   "source": [
    "model.fit(x_train, y_train, epochs=5)\n",
    "\n",
    "model.evaluate(x_test,  y_test, verbose=2)"
   ]
  },
  {
   "cell_type": "code",
   "execution_count": null,
   "id": "018c31e2",
   "metadata": {},
   "outputs": [],
   "source": []
  }
 ],
 "metadata": {
  "kernelspec": {
   "display_name": "Python 3 (ipykernel)",
   "language": "python",
   "name": "python3"
  },
  "language_info": {
   "codemirror_mode": {
    "name": "ipython",
    "version": 3
   },
   "file_extension": ".py",
   "mimetype": "text/x-python",
   "name": "python",
   "nbconvert_exporter": "python",
   "pygments_lexer": "ipython3",
   "version": "3.9.2"
  }
 },
 "nbformat": 4,
 "nbformat_minor": 5
}
