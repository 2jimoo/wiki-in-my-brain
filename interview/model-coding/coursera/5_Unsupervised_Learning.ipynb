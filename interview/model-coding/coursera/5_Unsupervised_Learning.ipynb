{
 "cells": [
  {
   "cell_type": "markdown",
   "id": "66922a95",
   "metadata": {},
   "source": [
    "# Clustering\n",
    "- K-means\n",
    "    - 가장 거리가 가까운 cetroids 할당\n",
    "    - 할당된 데이터포인트들의 평균위치로 centroids 갱신 반복\n",
    "- Initialize Centroids randomly\n",
    "    - N번 클러스터링해서 가장 J적은 것\n",
    "- find K \n",
    "    - 여러 k에 대해 클러스터링해서 가장 J적은 것 (x) k가 클수록 J작아지기 때문에\n",
    "    - 다운스트림 태스크의 비용함수 기준 가장 비용 작은 것(o)"
   ]
  },
  {
   "cell_type": "code",
   "execution_count": 2,
   "id": "55571ea2",
   "metadata": {},
   "outputs": [],
   "source": [
    "import numpy as np\n",
    "\n",
    "def assign(X, centroids):\n",
    "    dists= np.linalg.norm(X[:, np.newaxis]-centroids, axis=2)\n",
    "    idx= np.argmin(dists, axis=1)\n",
    "    return idx\n",
    "\n",
    "def get_centroids(X, idx, K):\n",
    "    for k in range(K):\n",
    "        data= X[np.where(idx== k)]\n",
    "        centroids[k]= np.mean(data, axis=0)\n",
    "    return centroids"
   ]
  },
  {
   "cell_type": "markdown",
   "id": "37026fb3",
   "metadata": {},
   "source": [
    "# Anomaly Detection\n",
    "- Density-based approach\n",
    "    - x의 feature x_j들을 모두 가우시안 분포로 변환한다\n",
    "    - x_j들의 결합 분포 p(x)를 구한다\n",
    "    - p(x) < epsilon이면 이상치\n",
    "- 지도학습과 비교\n",
    "    - 이상치 레이블이 현저히 적을 때도 가능\n",
    "    - unseen labels에도 반응 가능\n",
    "    - 지도학습보다 피처 선정, CV통한 eps선정, unbalnced evaluation 등 중요"
   ]
  },
  {
   "cell_type": "code",
   "execution_count": 3,
   "id": "958fbc12",
   "metadata": {},
   "outputs": [],
   "source": [
    "def estimate_gaussian(X): \n",
    "    #np.mean(X) 전체 데이터의 평균:전체 요소를 하나의 1D 배열로 간주하여 계산\n",
    "    mu = np.mean(X, axis=0)\n",
    "    var= np.var(X, axis=0)\n",
    "    return nu, var\n",
    "\n",
    "def select_threshold(y_val, p_val): \n",
    "    best_epsilon = 0\n",
    "    best_F1 = 0\n",
    "    F1 = 0\n",
    "    \n",
    "    step_size = (max(p_val) - min(p_val)) / 1000\n",
    "\n",
    "    for epsilon in np.arange(min(p_val), max(p_val), step_size):\n",
    "    \n",
    "        ### START CODE HERE ###\n",
    "        y_pred= p_val < epsilon # positive(anomaly)\n",
    "        # np.where((y_val == 1) & (y_pred == 1))은 인덱스 반환 인덱스 합X 갯수O\n",
    "        tp = np.sum((y_val == 1) & (y_pred == 1))  \n",
    "        fp = np.sum((y_val == 0) & (y_pred == 1))\n",
    "        fn = np.sum((y_val == 1) & (y_pred == 0))\n",
    "        \n",
    "        precision = tp / (tp+fp)\n",
    "        recall = tp/(tp+fn)\n",
    "        F1= (2*precision*recall) / (precision+recall)\n",
    "        ### END CODE HERE ### \n",
    "        \n",
    "        if F1 > best_F1:\n",
    "            best_F1 = F1\n",
    "            best_epsilon = epsilon\n",
    "        \n",
    "    return best_epsilon, best_F1"
   ]
  },
  {
   "cell_type": "markdown",
   "id": "94ac711b",
   "metadata": {},
   "source": [
    "# Dimension Reduction"
   ]
  },
  {
   "cell_type": "code",
   "execution_count": null,
   "id": "7e17fbcc",
   "metadata": {},
   "outputs": [],
   "source": []
  }
 ],
 "metadata": {
  "kernelspec": {
   "display_name": "Python 3 (ipykernel)",
   "language": "python",
   "name": "python3"
  },
  "language_info": {
   "codemirror_mode": {
    "name": "ipython",
    "version": 3
   },
   "file_extension": ".py",
   "mimetype": "text/x-python",
   "name": "python",
   "nbconvert_exporter": "python",
   "pygments_lexer": "ipython3",
   "version": "3.9.2"
  }
 },
 "nbformat": 4,
 "nbformat_minor": 5
}
