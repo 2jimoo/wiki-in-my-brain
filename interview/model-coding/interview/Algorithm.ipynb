{
 "cells": [
  {
   "cell_type": "markdown",
   "id": "24cc9923",
   "metadata": {},
   "source": [
    "# 그래프\n",
    "- 무향 그래프의 노드 포인터를 하나 받아서 그래프 전체를 복사하세요\n",
    "    - BFS\n",
    "- 유향 그래프의 노드 포인터를 하나 받아서 사이클 여부를 판단하세요\n",
    "    - DFS, UnionFind"
   ]
  },
  {
   "cell_type": "markdown",
   "id": "c51f0670",
   "metadata": {},
   "source": [
    "# 문자열"
   ]
  },
  {
   "cell_type": "markdown",
   "id": "c1b9d6d8",
   "metadata": {},
   "source": [
    "- input과 키워드 리스트가 주어질 때 모든 키워드를 포함하는 최단 부분 문자열 찾기\n",
    "    - Two pointer: s에서 모든 키워드 포함될 때까지 e 이동"
   ]
  },
  {
   "cell_type": "code",
   "execution_count": null,
   "id": "f9112359",
   "metadata": {},
   "outputs": [],
   "source": []
  },
  {
   "cell_type": "markdown",
   "id": "74dfb68d",
   "metadata": {},
   "source": [
    "- input과 키워드 리스트가 주어질 때 모든 키워드를 중복없이 포함하는 최장 부분 문자열 찾기\n",
    "    - 투포인터 + 해시맵"
   ]
  },
  {
   "cell_type": "code",
   "execution_count": null,
   "id": "90c35b27",
   "metadata": {},
   "outputs": [],
   "source": []
  },
  {
   "cell_type": "markdown",
   "id": "de23836b",
   "metadata": {},
   "source": [
    "- 두 문자열 s,t를 받아 s가 t의 부분 문자열인가 반환\n",
    "    - 투포인터 "
   ]
  },
  {
   "cell_type": "code",
   "execution_count": null,
   "id": "1a302c9f",
   "metadata": {},
   "outputs": [],
   "source": []
  },
  {
   "cell_type": "markdown",
   "id": "483218f4",
   "metadata": {},
   "source": [
    "- input에서 s를 모두 찾아 t로 바꾼다\n",
    "    - 쿼리 문자열 전처리해서 테이블 색인함: KMP, 보이어-무어..."
   ]
  },
  {
   "cell_type": "code",
   "execution_count": 1,
   "id": "a3d2e7cb",
   "metadata": {},
   "outputs": [
    {
     "name": "stdout",
     "output_type": "stream",
     "text": [
      "this is a exam string for examing\n"
     ]
    }
   ],
   "source": [
    "def boyer_moore_search(pattern, text):\n",
    "    def build_last_occurrence(pattern):\n",
    "        last_occurrence = [-1] * 256\n",
    "        for i in range(len(pattern)):\n",
    "            last_occurrence[ord(pattern[i])] = i\n",
    "        return last_occurrence\n",
    "\n",
    "    last_occurrence = build_last_occurrence(pattern)\n",
    "    m = len(pattern)\n",
    "    n = len(text)\n",
    "    i = 0\n",
    "    occurrences = []\n",
    "    while i <= n - m:\n",
    "        j = m - 1\n",
    "        while j >= 0 and pattern[j] == text[i + j]:\n",
    "            j -= 1\n",
    "        if j < 0:\n",
    "            occurrences.append(i)\n",
    "            i += (m - last_occurrence[ord(text[i + m])] if i + m < n else 1)\n",
    "        else:\n",
    "            i += max(1, j - last_occurrence[ord(text[i + j])])\n",
    "    return occurrences\n",
    "\n",
    "def replace_boyer_moore(text, s, t):\n",
    "    occurrences = boyer_moore_search(s, text)\n",
    "    if not occurrences:\n",
    "        return text\n",
    "    result = []\n",
    "    last_index = 0\n",
    "    for index in occurrences:\n",
    "        result.append(text[last_index:index])\n",
    "        result.append(t)\n",
    "        last_index = index + len(s)\n",
    "    result.append(text[last_index:])\n",
    "    return ''.join(result)\n",
    "\n",
    "# 예제\n",
    "text = \"this is a test string for testing\"\n",
    "s = \"test\"\n",
    "t = \"exam\"\n",
    "result = replace_boyer_moore(text, s, t)\n",
    "print(result)"
   ]
  },
  {
   "cell_type": "code",
   "execution_count": 2,
   "id": "e716867f",
   "metadata": {},
   "outputs": [
    {
     "name": "stdout",
     "output_type": "stream",
     "text": [
      "this is a exam string for examing\n"
     ]
    }
   ],
   "source": [
    "def kmp_search(pattern, text):\n",
    "    def compute_lps(pattern):\n",
    "        lps = [0] * len(pattern)\n",
    "        length = 0\n",
    "        i = 1\n",
    "        while i < len(pattern):\n",
    "            if pattern[i] == pattern[length]:\n",
    "                length += 1\n",
    "                lps[i] = length\n",
    "                i += 1\n",
    "            else:\n",
    "                if length != 0:\n",
    "                    length = lps[length - 1]\n",
    "                else:\n",
    "                    lps[i] = 0\n",
    "                    i += 1\n",
    "        return lps\n",
    "\n",
    "    lps = compute_lps(pattern)\n",
    "    i = j = 0\n",
    "    occurrences = []\n",
    "    while i < len(text):\n",
    "        if pattern[j] == text[i]:\n",
    "            i += 1\n",
    "            j += 1\n",
    "        if j == len(pattern):\n",
    "            occurrences.append(i - j)\n",
    "            j = lps[j - 1]\n",
    "        elif i < len(text) and pattern[j] != text[i]:\n",
    "            if j != 0:\n",
    "                j = lps[j - 1]\n",
    "            else:\n",
    "                i += 1\n",
    "    return occurrences\n",
    "\n",
    "def replace_kmp(text, s, t):\n",
    "    occurrences = kmp_search(s, text)\n",
    "    if not occurrences:\n",
    "        return text\n",
    "    result = []\n",
    "    last_index = 0\n",
    "    for index in occurrences:\n",
    "        result.append(text[last_index:index])\n",
    "        result.append(t)\n",
    "        last_index = index + len(s)\n",
    "    result.append(text[last_index:])\n",
    "    return ''.join(result)\n",
    "\n",
    "# 예제\n",
    "text = \"this is a test string for testing\"\n",
    "s = \"test\"\n",
    "t = \"exam\"\n",
    "result = replace_kmp(text, s, t)\n",
    "print(result)"
   ]
  },
  {
   "cell_type": "markdown",
   "id": "b430170d",
   "metadata": {},
   "source": [
    "# 배열\n",
    "- 값이 0,1인 2차원 배열에서 섬의 갯수 구하기\n",
    "    - DFS, BFS\n",
    "- ***정수 배열을 받아서 majority element(배열길이의 절반이상 나타나는 요소)찾기***\n",
    "    - 정렬: 중간 인덱스(절반 넘으므로) or 이분탐색\n",
    "- ***정수 배열 받아서 합이 0이 되는 세 정수가 존재하는가***\n",
    "    - 투포인터"
   ]
  },
  {
   "cell_type": "code",
   "execution_count": null,
   "id": "7adf2cc7",
   "metadata": {},
   "outputs": [],
   "source": []
  }
 ],
 "metadata": {
  "kernelspec": {
   "display_name": "Python 3 (ipykernel)",
   "language": "python",
   "name": "python3"
  },
  "language_info": {
   "codemirror_mode": {
    "name": "ipython",
    "version": 3
   },
   "file_extension": ".py",
   "mimetype": "text/x-python",
   "name": "python",
   "nbconvert_exporter": "python",
   "pygments_lexer": "ipython3",
   "version": "3.9.2"
  }
 },
 "nbformat": 4,
 "nbformat_minor": 5
}
