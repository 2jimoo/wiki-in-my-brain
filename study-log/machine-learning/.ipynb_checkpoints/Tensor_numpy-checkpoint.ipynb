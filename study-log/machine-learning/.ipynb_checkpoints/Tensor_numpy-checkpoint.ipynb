{
 "cells": [
  {
   "cell_type": "code",
   "execution_count": 1,
   "id": "81239814",
   "metadata": {},
   "outputs": [],
   "source": [
    "import torch\n",
    "import numpy as np"
   ]
  },
  {
   "cell_type": "code",
   "execution_count": 3,
   "id": "c4321ebd",
   "metadata": {},
   "outputs": [
    {
     "name": "stdout",
     "output_type": "stream",
     "text": [
      "tensor([[1, 2],\n",
      "        [3, 4]])\n"
     ]
    }
   ],
   "source": [
    "data= [[1,2], [3,4]]\n",
    "x_data= torch.tensor(data)\n",
    "print(x_data)"
   ]
  },
  {
   "cell_type": "code",
   "execution_count": 5,
   "id": "1fb64ab7",
   "metadata": {},
   "outputs": [
    {
     "name": "stdout",
     "output_type": "stream",
     "text": [
      "[[1 2]\n",
      " [3 4]]\n",
      "tensor([[1, 2],\n",
      "        [3, 4]])\n"
     ]
    }
   ],
   "source": [
    "np_array= np.array(data)\n",
    "print(np_array)\n",
    "x_data= torch.from_numpy(np_array)\n",
    "print(x_data)"
   ]
  },
  {
   "cell_type": "code",
   "execution_count": 6,
   "id": "28d1a75f",
   "metadata": {},
   "outputs": [
    {
     "name": "stdout",
     "output_type": "stream",
     "text": [
      "tensor([[1, 1],\n",
      "        [1, 1]])\n",
      "tensor([[0.4751, 0.1748],\n",
      "        [0.7036, 0.4903]])\n"
     ]
    }
   ],
   "source": [
    "x_ones =torch.ones_like(x_data)\n",
    "print(x_ones)\n",
    "x_rand =torch.rand_like(x_data, dtype=torch.float)\n",
    "print(x_rand)"
   ]
  },
  {
   "cell_type": "code",
   "execution_count": 8,
   "id": "cf0370af",
   "metadata": {},
   "outputs": [
    {
     "name": "stdout",
     "output_type": "stream",
     "text": [
      "Random Tensor: \n",
      " tensor([[0.6946, 0.4861, 0.4020],\n",
      "        [0.5960, 0.2161, 0.9364]]) \n",
      "\n",
      "Ones Tensor: \n",
      " tensor([[1., 1., 1.],\n",
      "        [1., 1., 1.]]) \n",
      "\n",
      "Zeros Tensor: \n",
      " tensor([[0., 0., 0.],\n",
      "        [0., 0., 0.]])\n"
     ]
    }
   ],
   "source": [
    "shape = (2,3)\n",
    "rand_tensor = torch.rand(shape)\n",
    "ones_tensor = torch.ones(shape)\n",
    "zeros_tensor = torch.zeros(shape)\n",
    "\n",
    "print(f\"Random Tensor: \\n {rand_tensor} \\n\")\n",
    "print(f\"Ones Tensor: \\n {ones_tensor} \\n\")\n",
    "print(f\"Zeros Tensor: \\n {zeros_tensor}\")"
   ]
  },
  {
   "cell_type": "code",
   "execution_count": 9,
   "id": "6745eaad",
   "metadata": {},
   "outputs": [
    {
     "name": "stdout",
     "output_type": "stream",
     "text": [
      "Shape of tensor: torch.Size([2, 3])\n",
      "Datatype of tensor: torch.float32\n",
      "Device tensor is stored on: cpu\n"
     ]
    }
   ],
   "source": [
    "print(f\"Shape of tensor: {rand_tensor.shape}\")\n",
    "print(f\"Datatype of tensor: {rand_tensor.dtype}\")\n",
    "print(f\"Device tensor is stored on: {rand_tensor.device}\")"
   ]
  },
  {
   "cell_type": "code",
   "execution_count": 12,
   "id": "031618e3",
   "metadata": {},
   "outputs": [
    {
     "name": "stdout",
     "output_type": "stream",
     "text": [
      "mps\n"
     ]
    }
   ],
   "source": [
    "device= 'cuda' if torch.cuda.is_available() else 'mps' if torch.backends.mps.is_available() else \"cpu\"\n",
    "print(device)"
   ]
  },
  {
   "cell_type": "code",
   "execution_count": 14,
   "id": "fb2670c7",
   "metadata": {},
   "outputs": [
    {
     "name": "stdout",
     "output_type": "stream",
     "text": [
      "tensor([0.6946, 0.4861, 0.4020])\n",
      "tensor([0.6946, 0.5960])\n",
      "tensor([0.4020, 0.9364])\n"
     ]
    }
   ],
   "source": [
    "rand_tensor.to(device)\n",
    "# row\n",
    "print(rand_tensor[0])\n",
    "# col\n",
    "print(rand_tensor[:, 0])\n",
    "# last col\n",
    "print(rand_tensor[:, -1])"
   ]
  },
  {
   "cell_type": "code",
   "execution_count": 20,
   "id": "7565465a",
   "metadata": {},
   "outputs": [
    {
     "name": "stdout",
     "output_type": "stream",
     "text": [
      "tensor([[1., 1., 1., 0., 0., 0.],\n",
      "        [1., 1., 1., 0., 0., 0.]])\n",
      "tensor([[1., 1., 1.],\n",
      "        [1., 1., 1.],\n",
      "        [0., 0., 0.],\n",
      "        [0., 0., 0.]])\n"
     ]
    },
    {
     "data": {
      "text/plain": [
       "torch.Size([4, 3])"
      ]
     },
     "execution_count": 20,
     "metadata": {},
     "output_type": "execute_result"
    }
   ],
   "source": [
    "concat_horizontal= torch.cat([ones_tensor, zeros_tensor], dim=1)\n",
    "print(concat_horizontal)\n",
    "\n",
    "concat_vertical= torch.cat([ones_tensor, zeros_tensor], dim=0)\n",
    "print(concat_vertical)\n",
    "concat_vertical.size()"
   ]
  },
  {
   "cell_type": "code",
   "execution_count": 22,
   "id": "cbb22e6c",
   "metadata": {},
   "outputs": [
    {
     "name": "stdout",
     "output_type": "stream",
     "text": [
      "tensor([[[1., 1., 1.],\n",
      "         [1., 1., 1.]],\n",
      "\n",
      "        [[0., 0., 0.],\n",
      "         [0., 0., 0.]]])\n"
     ]
    },
    {
     "data": {
      "text/plain": [
       "torch.Size([2, 2, 3])"
      ]
     },
     "execution_count": 22,
     "metadata": {},
     "output_type": "execute_result"
    }
   ],
   "source": [
    "stack=torch.stack([ones_tensor, zeros_tensor])\n",
    "print(stack)\n",
    "stack.size()"
   ]
  },
  {
   "cell_type": "code",
   "execution_count": 24,
   "id": "6ad5fd97",
   "metadata": {},
   "outputs": [
    {
     "name": "stdout",
     "output_type": "stream",
     "text": [
      "tensor([[1.0000, 1.0000, 1.0000],\n",
      "        [1.0000, 1.0000, 1.0000],\n",
      "        [0.0000, 0.0000, 0.0000],\n",
      "        [0.0000, 0.0000, 0.0000],\n",
      "        [0.6946, 0.4861, 0.4020],\n",
      "        [0.5960, 0.2161, 0.9364]])\n",
      "torch.Size([6, 3])\n",
      "tensor([[[1.0000, 1.0000, 1.0000],\n",
      "         [1.0000, 1.0000, 1.0000]],\n",
      "\n",
      "        [[0.0000, 0.0000, 0.0000],\n",
      "         [0.0000, 0.0000, 0.0000]],\n",
      "\n",
      "        [[0.6946, 0.4861, 0.4020],\n",
      "         [0.5960, 0.2161, 0.9364]]])\n",
      "torch.Size([3, 2, 3])\n"
     ]
    }
   ],
   "source": [
    "# 행(데이터수*행) 열 \n",
    "concat_vertical= torch.cat([ones_tensor, zeros_tensor, rand_tensor], dim=0)\n",
    "print(concat_vertical)\n",
    "print(concat_vertical.size())\n",
    "\n",
    "# 데이터수 행 열\n",
    "stack=torch.stack([ones_tensor, zeros_tensor, rand_tensor])\n",
    "print(stack)\n",
    "print(stack.size())"
   ]
  },
  {
   "cell_type": "code",
   "execution_count": 27,
   "id": "ab503533",
   "metadata": {},
   "outputs": [
    {
     "name": "stdout",
     "output_type": "stream",
     "text": [
      "tensor(14)\n",
      "tensor([1, 4, 9])\n",
      "tensor(14)\n"
     ]
    }
   ],
   "source": [
    "ta= torch.tensor([1,2,3])\n",
    "tb= torch.tensor([1,2,3])\n",
    "print(ta @ tb.T)\n",
    "print(ta*tb)\n",
    "print(ta.dot(tb))"
   ]
  },
  {
   "cell_type": "code",
   "execution_count": 28,
   "id": "a8082704",
   "metadata": {},
   "outputs": [
    {
     "name": "stdout",
     "output_type": "stream",
     "text": [
      "14\n",
      "[1 4 9]\n",
      "14\n"
     ]
    }
   ],
   "source": [
    "na= np.array([1,2,3])\n",
    "nb= np.array([1,2,3])\n",
    "print(na @ nb.T)\n",
    "print(na*nb)\n",
    "print(na.dot(nb))"
   ]
  },
  {
   "cell_type": "code",
   "execution_count": null,
   "id": "903ef284",
   "metadata": {},
   "outputs": [],
   "source": []
  }
 ],
 "metadata": {
  "kernelspec": {
   "display_name": "Python 3 (ipykernel)",
   "language": "python",
   "name": "python3"
  },
  "language_info": {
   "codemirror_mode": {
    "name": "ipython",
    "version": 3
   },
   "file_extension": ".py",
   "mimetype": "text/x-python",
   "name": "python",
   "nbconvert_exporter": "python",
   "pygments_lexer": "ipython3",
   "version": "3.9.2"
  }
 },
 "nbformat": 4,
 "nbformat_minor": 5
}
