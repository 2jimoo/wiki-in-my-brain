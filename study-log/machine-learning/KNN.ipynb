{
 "cells": [
  {
   "cell_type": "code",
   "execution_count": 2,
   "id": "cdd661f5",
   "metadata": {},
   "outputs": [],
   "source": [
    "# 현재 데이터에서 가장 가까운 k개 데이터의 레이블로 현재 데이터의 레이블 결정\n",
    "ones_data=[(0,0),(0,1),(0,2),(1,0),(1,2),(2,0),(2,1),(2,2)]\n",
    "ones_labels=[1,1,1,1,1,1,1,1]\n",
    "zeros_data=[(-1,0),(-1,1),(-1,2),(-1,3),(0,3),(1,3),(2,3)]\n",
    "zeros_labels=[0,0,0,0,0,0,0]\n",
    "\n",
    "data= ones_data+zeros_data\n",
    "y=ones_labels+zeros_labels\n",
    "\n",
    "sample=(1,1)\n",
    "target=1"
   ]
  },
  {
   "cell_type": "code",
   "execution_count": 19,
   "id": "106c7a68",
   "metadata": {},
   "outputs": [],
   "source": [
    "import math \n",
    "class KNN:\n",
    "    def __init__(self, data, y, k=3):\n",
    "        self.k=k\n",
    "        self.data= data\n",
    "        self.y=y\n",
    "        \n",
    "    def predict(self, sample):\n",
    "        dist_indices=[]\n",
    "        for idx, (x, y) in enumerate(self.data):\n",
    "            # 유클리드\n",
    "            dist= math.sqrt((x-sample[0])**2 +(y-sample[1])**2)\n",
    "            dist_indices.append((dist, idx))\n",
    "        top_k= sorted(dist_indices)[:min(len(self.data),self.k)]\n",
    "        labels= sum([self.y[y] for d, y in top_k])/self.k\n",
    "        pred_y=round(labels)\n",
    "        return pred_y"
   ]
  },
  {
   "cell_type": "code",
   "execution_count": 20,
   "id": "48eaddac",
   "metadata": {},
   "outputs": [],
   "source": [
    "knn=KNN(data=data, y=y)"
   ]
  },
  {
   "cell_type": "code",
   "execution_count": 21,
   "id": "92ddea6b",
   "metadata": {},
   "outputs": [
    {
     "name": "stdout",
     "output_type": "stream",
     "text": [
      "[(1.0, 1), (1.0, 3), (1.0, 4)]\n",
      "1\n"
     ]
    }
   ],
   "source": [
    "print(knn.predict(sample))"
   ]
  },
  {
   "cell_type": "code",
   "execution_count": null,
   "id": "16943f91",
   "metadata": {},
   "outputs": [],
   "source": []
  }
 ],
 "metadata": {
  "kernelspec": {
   "display_name": "Python 3 (ipykernel)",
   "language": "python",
   "name": "python3"
  },
  "language_info": {
   "codemirror_mode": {
    "name": "ipython",
    "version": 3
   },
   "file_extension": ".py",
   "mimetype": "text/x-python",
   "name": "python",
   "nbconvert_exporter": "python",
   "pygments_lexer": "ipython3",
   "version": "3.9.2"
  }
 },
 "nbformat": 4,
 "nbformat_minor": 5
}
