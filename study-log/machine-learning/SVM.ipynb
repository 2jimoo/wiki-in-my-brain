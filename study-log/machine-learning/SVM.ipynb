{
 "cells": [
  {
   "cell_type": "markdown",
   "id": "344d24b1",
   "metadata": {},
   "source": [
    "https://github.com/alirezadir/Machine-Learning-Interviews/blob/main/src/MLC/notebooks/svm.ipynb \n",
    "- cost = hinge_loss + regul"
   ]
  },
  {
   "cell_type": "code",
   "execution_count": 1,
   "id": "423f038c",
   "metadata": {},
   "outputs": [],
   "source": [
    "import numpy as np\n",
    "\n",
    "class SVM:\n",
    "    def __init__(self):\n",
    "        self.w=None\n",
    "        self.b=None\n",
    "        self.lr= 0.01\n",
    "        self.regl=0.01\n",
    "    \n",
    "    def fit(self, _x, _y):\n",
    "        n_samples, n_features= _x.shape\n",
    "        self.w= np.zeros(n_features)\n",
    "        self.b= np.ones(n_features)\n",
    "        \n",
    "        for x, y in zip(x,y):\n",
    "            loss = max(0, 1- y * (np.dot(x, w) +self.b))\n",
    "            if loss:\n",
    "                self.w -= self.lr * 2 * np.sum(w)\n",
    "            else:\n",
    "                self.w -= self.lr * 2 *(np.sum(w) + np.dot(x,y)) \n",
    "                self.b -= self.lr*y\n",
    "    \n",
    "    def predict(self, x):\n",
    "        z = np.dot(x,y)+ self.b\n",
    "        pred_y = np.sign(z)"
   ]
  },
  {
   "cell_type": "code",
   "execution_count": null,
   "id": "acd27f94",
   "metadata": {},
   "outputs": [],
   "source": [
    "import numpy as np\n",
    "\n",
    "class SVM:\n",
    "    def __init__(self, learning_rate=0.001, lambda_param=0.01, n_iters=1000):\n",
    "        self.lr = learning_rate\n",
    "        self.lambda_param = lambda_param\n",
    "        self.n_iters = n_iters\n",
    "        self.w = None\n",
    "        self.b = None\n",
    "\n",
    "    def fit(self, X, y):\n",
    "        n_samples, n_features = X.shape\n",
    "        y_ = np.where(y <= 0, -1, 1)\n",
    "        self.w = np.zeros(n_features)\n",
    "        self.b = 0\n",
    "\n",
    "        # Gradient descent\n",
    "        for _ in range(self.n_iters):\n",
    "            for idx, x_i in enumerate(X):\n",
    "                condition = y_[idx] * (np.dot(x_i, self.w) - self.b) >= 1\n",
    "                if condition:\n",
    "                    self.w -= self.lr * (2 * self.lambda_param * self.w)\n",
    "                else:\n",
    "                    self.w -= self.lr * (2 * self.lambda_param * self.w - np.dot(x_i, y_[idx]))\n",
    "                    self.b -= self.lr * y_[idx]\n",
    "\n",
    "    def predict(self, X):\n",
    "        linear_output = np.dot(X, self.w) - self.b\n",
    "        return np.sign(linear_output)"
   ]
  }
 ],
 "metadata": {
  "kernelspec": {
   "display_name": "Python 3 (ipykernel)",
   "language": "python",
   "name": "python3"
  },
  "language_info": {
   "codemirror_mode": {
    "name": "ipython",
    "version": 3
   },
   "file_extension": ".py",
   "mimetype": "text/x-python",
   "name": "python",
   "nbconvert_exporter": "python",
   "pygments_lexer": "ipython3",
   "version": "3.9.2"
  }
 },
 "nbformat": 4,
 "nbformat_minor": 5
}
