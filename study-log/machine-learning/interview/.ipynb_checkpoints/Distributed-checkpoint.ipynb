{
 "cells": [
  {
   "cell_type": "markdown",
   "id": "996a77ee",
   "metadata": {},
   "source": [
    "# 코퍼스에서 Window W로 동시발생행렬 구하기\n",
    "- MapReduce Co-occurance method\n",
    "    - Pair기법\n",
    "        - 윈도우 내 각 단어에 대해 가능한 모든 단어쌍-갯수를 나타내는 키-값 테이블 구성 \n",
    "        - map: 입력(문서집합)에서 대별 단어로 분할, 단어쌍-1 키값 테이블 생성\n",
    "        - reduce: 키 별 합산\n",
    "    - Stripe기법\n",
    "        - pair기법에서 key space가 매우 클 수 있음\n",
    "        - 단어를 키로, 해당 단어와 함께 발생하는 다른 모든 단어의 빈도 해시맵을 값으로 하는 키-값 테이블 구성"
   ]
  },
  {
   "cell_type": "code",
   "execution_count": null,
   "id": "a88c2281",
   "metadata": {},
   "outputs": [],
   "source": []
  },
  {
   "cell_type": "code",
   "execution_count": 1,
   "id": "219f7c68",
   "metadata": {},
   "outputs": [
    {
     "name": "stdout",
     "output_type": "stream",
     "text": [
      "I: {'love': 2, 'machine': 1, 'coding': 1}\n",
      "love: {'I': 2, 'machine': 1, 'learning': 1, 'coding': 1, 'in': 1}\n",
      "machine: {'I': 1, 'love': 1, 'learning': 2, 'is': 1}\n",
      "learning: {'love': 1, 'machine': 2, 'is': 1, 'great': 1}\n",
      "is: {'machine': 1, 'learning': 1, 'great': 1}\n",
      "great: {'learning': 1, 'is': 1}\n",
      "coding: {'I': 1, 'love': 1, 'in': 1, 'Python': 1}\n",
      "in: {'love': 1, 'coding': 1, 'Python': 1}\n",
      "Python: {'coding': 1, 'in': 1}\n"
     ]
    }
   ],
   "source": [
    "from collections import defaultdict\n",
    "import itertools\n",
    "\n",
    "def build_cooccurrence_matrix_pair(corpus, window_size):\n",
    "    cooccurrence_matrix = defaultdict(lambda: defaultdict(int))\n",
    "    \n",
    "    for sentence in corpus:\n",
    "        words = sentence.split()\n",
    "        for i, word in enumerate(words):\n",
    "            start = max(0, i - window_size)\n",
    "            end = min(len(words), i + window_size + 1)\n",
    "            for j in range(start, end):\n",
    "                if i != j:\n",
    "                    cooccurrence_matrix[word][words[j]] += 1\n",
    "    \n",
    "    return cooccurrence_matrix\n",
    "\n",
    "# 예제 코퍼스\n",
    "corpus = [\n",
    "    \"I love machine learning\",\n",
    "    \"machine learning is great\",\n",
    "    \"I love coding in Python\"\n",
    "]\n",
    "\n",
    "window_size = 2\n",
    "cooccurrence_matrix_pair = build_cooccurrence_matrix_pair(corpus, window_size)\n",
    "\n",
    "# 출력\n",
    "for word, neighbors in cooccurrence_matrix_pair.items():\n",
    "    print(f\"{word}: {dict(neighbors)}\")"
   ]
  },
  {
   "cell_type": "code",
   "execution_count": null,
   "id": "22c1f18e",
   "metadata": {},
   "outputs": [],
   "source": []
  },
  {
   "cell_type": "code",
   "execution_count": 2,
   "id": "cc63c2fa",
   "metadata": {},
   "outputs": [
    {
     "name": "stdout",
     "output_type": "stream",
     "text": [
      "I: {'love': 2, 'machine': 1, 'coding': 1}\n",
      "love: {'I': 2, 'machine': 1, 'learning': 1, 'coding': 1, 'in': 1}\n",
      "machine: {'I': 1, 'love': 1, 'learning': 2, 'is': 1}\n",
      "learning: {'love': 1, 'machine': 2, 'is': 1, 'great': 1}\n",
      "is: {'machine': 1, 'learning': 1, 'great': 1}\n",
      "great: {'learning': 1, 'is': 1}\n",
      "coding: {'I': 1, 'love': 1, 'in': 1, 'Python': 1}\n",
      "in: {'love': 1, 'coding': 1, 'Python': 1}\n",
      "Python: {'coding': 1, 'in': 1}\n"
     ]
    }
   ],
   "source": [
    "from collections import defaultdict\n",
    "\n",
    "def build_cooccurrence_matrix_stripe(corpus, window_size):\n",
    "    cooccurrence_matrix = defaultdict(lambda: defaultdict(int))\n",
    "    \n",
    "    for sentence in corpus:\n",
    "        words = sentence.split()\n",
    "        for i, word in enumerate(words):\n",
    "            stripe = defaultdict(int)\n",
    "            start = max(0, i - window_size)\n",
    "            end = min(len(words), i + window_size + 1)\n",
    "            for j in range(start, end):\n",
    "                if i != j:\n",
    "                    stripe[words[j]] += 1\n",
    "            for neighbor, count in stripe.items():\n",
    "                cooccurrence_matrix[word][neighbor] += count\n",
    "    \n",
    "    return cooccurrence_matrix\n",
    "\n",
    "# 예제 코퍼스\n",
    "corpus = [\n",
    "    \"I love machine learning\",\n",
    "    \"machine learning is great\",\n",
    "    \"I love coding in Python\"\n",
    "]\n",
    "\n",
    "window_size = 2\n",
    "cooccurrence_matrix_stripe = build_cooccurrence_matrix_stripe(corpus, window_size)\n",
    "\n",
    "# 출력\n",
    "for word, neighbors in cooccurrence_matrix_stripe.items():\n",
    "    print(f\"{word}: {dict(neighbors)}\")"
   ]
  },
  {
   "cell_type": "markdown",
   "id": "ad00c4ab",
   "metadata": {},
   "source": [
    "# Corpus에서 TF-IDF 생성\n",
    "- Term Frequency 생성\n",
    "    - mapper 입력: 문서\n",
    "    - mapper 출력: ((term, doc), 1)\n",
    "    - reducer 출력: 합산 or 문서길이로 정규화\n",
    "- Inverse document frequency 계산\n",
    "    - mapper 입력: ((term, doc), tf)\n",
    "    - mapper 출력: (term, 1)\n",
    "    - reducer 출력\n",
    "        - 합산하여 해당 단어가 포함된 문서의 총 개수\n",
    "        - log(total_doc_num/해당 단어 포함 문서개수)\n",
    "- TF, IDF 결합\n",
    "    - mapper 입력: (term ,(doc, tf, idf))\n",
    "    - mapper 출력: ((term, doc), tf*idf)\n",
    "        - 각 문서의 각 단어에 대한 tf-idf 점수 의미"
   ]
  },
  {
   "cell_type": "code",
   "execution_count": null,
   "id": "e3a9201f",
   "metadata": {},
   "outputs": [],
   "source": []
  },
  {
   "cell_type": "code",
   "execution_count": 3,
   "id": "87294cd3",
   "metadata": {},
   "outputs": [
    {
     "name": "stdout",
     "output_type": "stream",
     "text": [
      "Document 1: {'I': 0.1013662770270411, 'love': 0.1013662770270411, 'machine': 0.1013662770270411, 'learning': 0.1013662770270411}\n",
      "Document 2: {'machine': 0.1013662770270411, 'learning': 0.1013662770270411, 'is': 0.27465307216702745, 'great': 0.27465307216702745}\n",
      "Document 3: {'I': 0.08109302162163289, 'love': 0.08109302162163289, 'coding': 0.21972245773362198, 'in': 0.21972245773362198, 'Python': 0.21972245773362198}\n"
     ]
    }
   ],
   "source": [
    "import numpy as np\n",
    "from collections import defaultdict\n",
    "from math import log\n",
    "\n",
    "def compute_tf(corpus):\n",
    "    tf = []\n",
    "    for document in corpus:\n",
    "        word_count = defaultdict(int)\n",
    "        words = document.split()\n",
    "        for word in words:\n",
    "            word_count[word] += 1\n",
    "        total_words = len(words)\n",
    "        tf.append({word: count / total_words for word, count in word_count.items()})\n",
    "    return tf\n",
    "\n",
    "def compute_idf(corpus):\n",
    "    idf = defaultdict(int)\n",
    "    total_documents = len(corpus)\n",
    "    for document in corpus:\n",
    "        words = set(document.split())\n",
    "        for word in words:\n",
    "            idf[word] += 1\n",
    "    idf = {word: log(total_documents / count) for word, count in idf.items()}\n",
    "    return idf\n",
    "\n",
    "def compute_tfidf(corpus):\n",
    "    tf = compute_tf(corpus)\n",
    "    idf = compute_idf(corpus)\n",
    "    tfidf = []\n",
    "    for document_tf in tf:\n",
    "        document_tfidf = {word: tf_value * idf[word] for word, tf_value in document_tf.items()}\n",
    "        tfidf.append(document_tfidf)\n",
    "    return tfidf\n",
    "\n",
    "# 예제 코퍼스\n",
    "corpus = [\n",
    "    \"I love machine learning\",\n",
    "    \"machine learning is great\",\n",
    "    \"I love coding in Python\"\n",
    "]\n",
    "\n",
    "tfidf = compute_tfidf(corpus)\n",
    "\n",
    "# 출력\n",
    "for i, document_tfidf in enumerate(tfidf):\n",
    "    print(f\"Document {i+1}: {document_tfidf}\")"
   ]
  }
 ],
 "metadata": {
  "kernelspec": {
   "display_name": "Python 3 (ipykernel)",
   "language": "python",
   "name": "python3"
  },
  "language_info": {
   "codemirror_mode": {
    "name": "ipython",
    "version": 3
   },
   "file_extension": ".py",
   "mimetype": "text/x-python",
   "name": "python",
   "nbconvert_exporter": "python",
   "pygments_lexer": "ipython3",
   "version": "3.9.2"
  }
 },
 "nbformat": 4,
 "nbformat_minor": 5
}
