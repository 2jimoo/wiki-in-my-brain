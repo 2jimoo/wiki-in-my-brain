{
 "cells": [
  {
   "cell_type": "markdown",
   "id": "5de0fb68",
   "metadata": {},
   "source": [
    "# 1-1. Reservoir sampling\n",
    "- 정의도 몰라!\n",
    "    - 무한한 항목 모집단에서 k개의 샘플 무작위 선택"
   ]
  },
  {
   "cell_type": "code",
   "execution_count": 3,
   "id": "23a34e45",
   "metadata": {},
   "outputs": [
    {
     "name": "stdout",
     "output_type": "stream",
     "text": [
      "Reservoir Sample: [48, 96, 44, 100, 55, 62, 31, 35, 99, 27]\n"
     ]
    }
   ],
   "source": [
    "import random\n",
    "\n",
    "def reservoir_sampling(stream, k):\n",
    "    reservoir = []\n",
    "    n = 0\n",
    "    \n",
    "    for item in stream:\n",
    "        n += 1\n",
    "        if len(reservoir) < k:\n",
    "            reservoir.append(item)\n",
    "        else:\n",
    "            j = random.randint(0, n - 1)\n",
    "            if j < k:\n",
    "                reservoir[j] = item\n",
    "    \n",
    "    return reservoir\n",
    "\n",
    "# 예시 사용법\n",
    "stream = range(1, 101)  # 예시로 1부터 100까지의 숫자 스트림\n",
    "k = 10  # 샘플링할 아이템의 개수\n",
    "\n",
    "sample = reservoir_sampling(stream, k)\n",
    "print(\"Reservoir Sample:\", sample)\n"
   ]
  },
  {
   "cell_type": "code",
   "execution_count": 1,
   "id": "0968813b",
   "metadata": {},
   "outputs": [],
   "source": [
    "# interview\n",
    "class Reservoir:\n",
    "    def __init__(self, size):\n",
    "        self.size= size\n",
    "        self.reservoir=[]\n",
    "        self.count=0\n",
    "        \n",
    "    def try_add(self, value):\n",
    "        self.count += 1\n",
    "        if self.count <= self.size:\n",
    "            self.reservoir.append(value)\n",
    "            return True\n",
    "        # 들어오는 항목이 샘플링될 확률이 점점 낮아진다..? k개 되기전까지는 그냥 담고, k개 이후로는 교체\n",
    "        else:\n",
    "            insertion_idx=random.randint(0, self.count)\n",
    "            if insertion_idx < self.size:\n",
    "                self.reservoir[insertion_idx] = value\n",
    "                return True\n",
    "            else:\n",
    "                return False"
   ]
  },
  {
   "cell_type": "markdown",
   "id": "3e03e268",
   "metadata": {},
   "source": [
    "# 1-2. Weighted reservoir sampling\n",
    "- 입력을 수용할 확률이 각자 다를 때"
   ]
  },
  {
   "cell_type": "code",
   "execution_count": 4,
   "id": "6be9a72e",
   "metadata": {},
   "outputs": [
    {
     "name": "stdout",
     "output_type": "stream",
     "text": [
      "Weighted Reservoir Sample (Items): [1, 4, 3]\n",
      "Weighted Reservoir Sample (Weights): [0.1, 0.7, 0.3]\n"
     ]
    }
   ],
   "source": [
    "import random\n",
    "\n",
    "class WeightedReservoir:\n",
    "    def __init__(self, size):\n",
    "        self.size = size\n",
    "        self.reservoir = []\n",
    "        self.total_weight = 0\n",
    "        self.count = 0\n",
    "\n",
    "    def try_add(self, value, weight):\n",
    "        if weight <= 0:\n",
    "            return False\n",
    "        self.count += 1\n",
    "        self.total_weight += weight\n",
    "\n",
    "        if self.count <= self.size:\n",
    "            self.reservoir.append(value)\n",
    "            return True\n",
    "        else:\n",
    "            # 상대적 가중치에 비례한 확률로 항목을 샘플링\n",
    "            random_weight = random.randrange(0, self.total_weight)\n",
    "\n",
    "            if random_weight < weight:\n",
    "                insertion_idx = random.randrange(0, self.size)\n",
    "                self.reservoir[insertion_idx] = value\n",
    "                return True\n",
    "            else:\n",
    "                return False"
   ]
  },
  {
   "cell_type": "markdown",
   "id": "5f9c8dbb",
   "metadata": {},
   "source": [
    "# 2. Probability(DP)"
   ]
  },
  {
   "cell_type": "markdown",
   "id": "10b7ca1e",
   "metadata": {},
   "source": [
    "### 로또\n",
    "- 로또 공을 복원 추출합니다.\n",
    "- 각 공에는 1과 N사이 값이 있습니다.\n",
    "- 값이 V이상인 공이 나올 때까지 계속 뽑습니다. \n",
    "- 마지막으로 뽑은 값이 U이하일 확률은 얼마인가요?"
   ]
  },
  {
   "cell_type": "code",
   "execution_count": null,
   "id": "31549510",
   "metadata": {},
   "outputs": [],
   "source": []
  },
  {
   "cell_type": "code",
   "execution_count": 6,
   "id": "a21fa8ef",
   "metadata": {},
   "outputs": [],
   "source": [
    "# interview\n",
    "# 1. V값이상 공 나오기 직전X 종료된 공O\n",
    "# 2. U < V: 종료 못 함(0%)\n",
    "# 3. U >= V: U 초과하는 값이 나와서 종료되었을 수 있음(V이상 U이하일 확률 누적)\n",
    "# prob[k]: 마지막 뽑은 공이 k일 확률\n",
    "# ex. prob[1]=1/N, prob[2]=1/N\n",
    "def prob_max_val_or_less(u, v, num_options):\n",
    "    if u <= 0 or v <= 0 or u < v or n <= 0:\n",
    "        return 0.0\n",
    "    if u >= num_options:\n",
    "        return 1.0\n",
    "    \n",
    "    prob_sum=1.0 # 아직 아무 공도 뽑지 않은 상태\n",
    "    prob= [prob_sum] + [0.0] * u\n",
    "    \n",
    "    for idx in range(1, u+1):\n",
    "        prob[idx] = prob_sum / num_options  \n",
    "        if idx >= num_options:\n",
    "            prob_sum -= prob[idx-num_options]\n",
    "        if idx < v: # v 나오면 종료될 거라서 여기까지만 누적\n",
    "            prob_sum += prob[idx]\n",
    "            \n",
    "    return sum(prob[v:])"
   ]
  },
  {
   "cell_type": "markdown",
   "id": "4d8c830d",
   "metadata": {},
   "source": [
    "### 체스판\n",
    "- NxN 체스판의 초기위치 (i,j)에 기사가 있습니다.\n",
    "- 기사는 대각선으로 1칸 이동합니다.\n",
    "- 기사는 최대 k번 이동할 수 있고 체스판 밖으로 나가면 다시 들어올 수 없습니다.\n",
    "- k번 이동한 후에도 기사가 체스판에 남아있을 확류은 얼마인가요"
   ]
  },
  {
   "cell_type": "code",
   "execution_count": null,
   "id": "3975b6f7",
   "metadata": {},
   "outputs": [],
   "source": []
  },
  {
   "cell_type": "code",
   "execution_count": null,
   "id": "7b204ce3",
   "metadata": {},
   "outputs": [],
   "source": [
    "# interview\n",
    "# prob[x][y][k]: 기사가 x,y에서 k회 이동했을 때 체스판에 남아있을 확률\n",
    "# 시작위치에서 이동가능한 모든 위치 확률 누적\n",
    "N= 8 # 체스판 크기\n",
    "directions=[(-2,-1),(-2,1),(-1,-2),(1,-2),(1,2),(2,-1),(2,1)]\n",
    "num_dir= len(directions)\n",
    "\n",
    "def prob_on_board(sx, sy, num_moves):\n",
    "    if num_moves <= 0 :\n",
    "        return 1.0\n",
    "    prob= [[[0]*(num_moves+1) for _ in range(N)] for _ in range(N)]\n",
    "    \n",
    "    for x in range(N):\n",
    "        for y in range(N):\n",
    "            prob[x][y][0]=1.0\n",
    "            \n",
    "    for move in range(1, num_moves+1):\n",
    "        for x in range(N):\n",
    "            for y in range(N):\n",
    "                prob_sum =0.0\n",
    "                for dx, dy in directions:\n",
    "                    nx, ny = x+dx, y+dy\n",
    "                    if nx >=0 and nx<N and ny >=0 and ny <N:\n",
    "                        prob_sum += prob[nx][ny][move-1]\n",
    "                prob[x][y] = prob_sum / num_dir\n",
    "    \n",
    "    return prob[sx][sy][num_moves]"
   ]
  }
 ],
 "metadata": {
  "kernelspec": {
   "display_name": "Python 3 (ipykernel)",
   "language": "python",
   "name": "python3"
  },
  "language_info": {
   "codemirror_mode": {
    "name": "ipython",
    "version": 3
   },
   "file_extension": ".py",
   "mimetype": "text/x-python",
   "name": "python",
   "nbconvert_exporter": "python",
   "pygments_lexer": "ipython3",
   "version": "3.9.2"
  }
 },
 "nbformat": 4,
 "nbformat_minor": 5
}
