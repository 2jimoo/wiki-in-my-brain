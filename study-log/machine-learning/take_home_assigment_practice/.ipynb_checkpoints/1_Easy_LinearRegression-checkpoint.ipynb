{
 "cells": [
  {
   "cell_type": "code",
   "execution_count": 1,
   "id": "db4e6970",
   "metadata": {},
   "outputs": [],
   "source": [
    "# 라이브러리 및 패키지 import\n",
    "import pandas as pd\n",
    "import numpy as np\n",
    "import matplotlib.pyplot as plt\n",
    "from sklearn.datasets import load_breast_cancer"
   ]
  },
  {
   "cell_type": "code",
   "execution_count": 2,
   "id": "714c2e5d",
   "metadata": {},
   "outputs": [
    {
     "data": {
      "text/plain": [
       "{'data': array([[1.799e+01, 1.038e+01, 1.228e+02, ..., 2.654e-01, 4.601e-01,\n",
       "         1.189e-01],\n",
       "        [2.057e+01, 1.777e+01, 1.329e+02, ..., 1.860e-01, 2.750e-01,\n",
       "         8.902e-02],\n",
       "        [1.969e+01, 2.125e+01, 1.300e+02, ..., 2.430e-01, 3.613e-01,\n",
       "         8.758e-02],\n",
       "        ...,\n",
       "        [1.660e+01, 2.808e+01, 1.083e+02, ..., 1.418e-01, 2.218e-01,\n",
       "         7.820e-02],\n",
       "        [2.060e+01, 2.933e+01, 1.401e+02, ..., 2.650e-01, 4.087e-01,\n",
       "         1.240e-01],\n",
       "        [7.760e+00, 2.454e+01, 4.792e+01, ..., 0.000e+00, 2.871e-01,\n",
       "         7.039e-02]]),\n",
       " 'target': array([0, 0, 0, 0, 0, 0, 0, 0, 0, 0, 0, 0, 0, 0, 0, 0, 0, 0, 0, 1, 1, 1,\n",
       "        0, 0, 0, 0, 0, 0, 0, 0, 0, 0, 0, 0, 0, 0, 0, 1, 0, 0, 0, 0, 0, 0,\n",
       "        0, 0, 1, 0, 1, 1, 1, 1, 1, 0, 0, 1, 0, 0, 1, 1, 1, 1, 0, 1, 0, 0,\n",
       "        1, 1, 1, 1, 0, 1, 0, 0, 1, 0, 1, 0, 0, 1, 1, 1, 0, 0, 1, 0, 0, 0,\n",
       "        1, 1, 1, 0, 1, 1, 0, 0, 1, 1, 1, 0, 0, 1, 1, 1, 1, 0, 1, 1, 0, 1,\n",
       "        1, 1, 1, 1, 1, 1, 1, 0, 0, 0, 1, 0, 0, 1, 1, 1, 0, 0, 1, 0, 1, 0,\n",
       "        0, 1, 0, 0, 1, 1, 0, 1, 1, 0, 1, 1, 1, 1, 0, 1, 1, 1, 1, 1, 1, 1,\n",
       "        1, 1, 0, 1, 1, 1, 1, 0, 0, 1, 0, 1, 1, 0, 0, 1, 1, 0, 0, 1, 1, 1,\n",
       "        1, 0, 1, 1, 0, 0, 0, 1, 0, 1, 0, 1, 1, 1, 0, 1, 1, 0, 0, 1, 0, 0,\n",
       "        0, 0, 1, 0, 0, 0, 1, 0, 1, 0, 1, 1, 0, 1, 0, 0, 0, 0, 1, 1, 0, 0,\n",
       "        1, 1, 1, 0, 1, 1, 1, 1, 1, 0, 0, 1, 1, 0, 1, 1, 0, 0, 1, 0, 1, 1,\n",
       "        1, 1, 0, 1, 1, 1, 1, 1, 0, 1, 0, 0, 0, 0, 0, 0, 0, 0, 0, 0, 0, 0,\n",
       "        0, 0, 1, 1, 1, 1, 1, 1, 0, 1, 0, 1, 1, 0, 1, 1, 0, 1, 0, 0, 1, 1,\n",
       "        1, 1, 1, 1, 1, 1, 1, 1, 1, 1, 1, 0, 1, 1, 0, 1, 0, 1, 1, 1, 1, 1,\n",
       "        1, 1, 1, 1, 1, 1, 1, 1, 1, 0, 1, 1, 1, 0, 1, 0, 1, 1, 1, 1, 0, 0,\n",
       "        0, 1, 1, 1, 1, 0, 1, 0, 1, 0, 1, 1, 1, 0, 1, 1, 1, 1, 1, 1, 1, 0,\n",
       "        0, 0, 1, 1, 1, 1, 1, 1, 1, 1, 1, 1, 1, 0, 0, 1, 0, 0, 0, 1, 0, 0,\n",
       "        1, 1, 1, 1, 1, 0, 1, 1, 1, 1, 1, 0, 1, 1, 1, 0, 1, 1, 0, 0, 1, 1,\n",
       "        1, 1, 1, 1, 0, 1, 1, 1, 1, 1, 1, 1, 0, 1, 1, 1, 1, 1, 0, 1, 1, 0,\n",
       "        1, 1, 1, 1, 1, 1, 1, 1, 1, 1, 1, 1, 0, 1, 0, 0, 1, 0, 1, 1, 1, 1,\n",
       "        1, 0, 1, 1, 0, 1, 0, 1, 1, 0, 1, 0, 1, 1, 1, 1, 1, 1, 1, 1, 0, 0,\n",
       "        1, 1, 1, 1, 1, 1, 0, 1, 1, 1, 1, 1, 1, 1, 1, 1, 1, 0, 1, 1, 1, 1,\n",
       "        1, 1, 1, 0, 1, 0, 1, 1, 0, 1, 1, 1, 1, 1, 0, 0, 1, 0, 1, 0, 1, 1,\n",
       "        1, 1, 1, 0, 1, 1, 0, 1, 0, 1, 0, 0, 1, 1, 1, 0, 1, 1, 1, 1, 1, 1,\n",
       "        1, 1, 1, 1, 1, 0, 1, 0, 0, 1, 1, 1, 1, 1, 1, 1, 1, 1, 1, 1, 1, 1,\n",
       "        1, 1, 1, 1, 1, 1, 1, 1, 1, 1, 1, 1, 0, 0, 0, 0, 0, 0, 1]),\n",
       " 'frame': None,\n",
       " 'target_names': array(['malignant', 'benign'], dtype='<U9'),\n",
       " 'DESCR': '.. _breast_cancer_dataset:\\n\\nBreast cancer wisconsin (diagnostic) dataset\\n--------------------------------------------\\n\\n**Data Set Characteristics:**\\n\\n    :Number of Instances: 569\\n\\n    :Number of Attributes: 30 numeric, predictive attributes and the class\\n\\n    :Attribute Information:\\n        - radius (mean of distances from center to points on the perimeter)\\n        - texture (standard deviation of gray-scale values)\\n        - perimeter\\n        - area\\n        - smoothness (local variation in radius lengths)\\n        - compactness (perimeter^2 / area - 1.0)\\n        - concavity (severity of concave portions of the contour)\\n        - concave points (number of concave portions of the contour)\\n        - symmetry\\n        - fractal dimension (\"coastline approximation\" - 1)\\n\\n        The mean, standard error, and \"worst\" or largest (mean of the three\\n        worst/largest values) of these features were computed for each image,\\n        resulting in 30 features.  For instance, field 0 is Mean Radius, field\\n        10 is Radius SE, field 20 is Worst Radius.\\n\\n        - class:\\n                - WDBC-Malignant\\n                - WDBC-Benign\\n\\n    :Summary Statistics:\\n\\n    ===================================== ====== ======\\n                                           Min    Max\\n    ===================================== ====== ======\\n    radius (mean):                        6.981  28.11\\n    texture (mean):                       9.71   39.28\\n    perimeter (mean):                     43.79  188.5\\n    area (mean):                          143.5  2501.0\\n    smoothness (mean):                    0.053  0.163\\n    compactness (mean):                   0.019  0.345\\n    concavity (mean):                     0.0    0.427\\n    concave points (mean):                0.0    0.201\\n    symmetry (mean):                      0.106  0.304\\n    fractal dimension (mean):             0.05   0.097\\n    radius (standard error):              0.112  2.873\\n    texture (standard error):             0.36   4.885\\n    perimeter (standard error):           0.757  21.98\\n    area (standard error):                6.802  542.2\\n    smoothness (standard error):          0.002  0.031\\n    compactness (standard error):         0.002  0.135\\n    concavity (standard error):           0.0    0.396\\n    concave points (standard error):      0.0    0.053\\n    symmetry (standard error):            0.008  0.079\\n    fractal dimension (standard error):   0.001  0.03\\n    radius (worst):                       7.93   36.04\\n    texture (worst):                      12.02  49.54\\n    perimeter (worst):                    50.41  251.2\\n    area (worst):                         185.2  4254.0\\n    smoothness (worst):                   0.071  0.223\\n    compactness (worst):                  0.027  1.058\\n    concavity (worst):                    0.0    1.252\\n    concave points (worst):               0.0    0.291\\n    symmetry (worst):                     0.156  0.664\\n    fractal dimension (worst):            0.055  0.208\\n    ===================================== ====== ======\\n\\n    :Missing Attribute Values: None\\n\\n    :Class Distribution: 212 - Malignant, 357 - Benign\\n\\n    :Creator:  Dr. William H. Wolberg, W. Nick Street, Olvi L. Mangasarian\\n\\n    :Donor: Nick Street\\n\\n    :Date: November, 1995\\n\\nThis is a copy of UCI ML Breast Cancer Wisconsin (Diagnostic) datasets.\\nhttps://goo.gl/U2Uwz2\\n\\nFeatures are computed from a digitized image of a fine needle\\naspirate (FNA) of a breast mass.  They describe\\ncharacteristics of the cell nuclei present in the image.\\n\\nSeparating plane described above was obtained using\\nMultisurface Method-Tree (MSM-T) [K. P. Bennett, \"Decision Tree\\nConstruction Via Linear Programming.\" Proceedings of the 4th\\nMidwest Artificial Intelligence and Cognitive Science Society,\\npp. 97-101, 1992], a classification method which uses linear\\nprogramming to construct a decision tree.  Relevant features\\nwere selected using an exhaustive search in the space of 1-4\\nfeatures and 1-3 separating planes.\\n\\nThe actual linear program used to obtain the separating plane\\nin the 3-dimensional space is that described in:\\n[K. P. Bennett and O. L. Mangasarian: \"Robust Linear\\nProgramming Discrimination of Two Linearly Inseparable Sets\",\\nOptimization Methods and Software 1, 1992, 23-34].\\n\\nThis database is also available through the UW CS ftp server:\\n\\nftp ftp.cs.wisc.edu\\ncd math-prog/cpo-dataset/machine-learn/WDBC/\\n\\n.. topic:: References\\n\\n   - W.N. Street, W.H. Wolberg and O.L. Mangasarian. Nuclear feature extraction \\n     for breast tumor diagnosis. IS&T/SPIE 1993 International Symposium on \\n     Electronic Imaging: Science and Technology, volume 1905, pages 861-870,\\n     San Jose, CA, 1993.\\n   - O.L. Mangasarian, W.N. Street and W.H. Wolberg. Breast cancer diagnosis and \\n     prognosis via linear programming. Operations Research, 43(4), pages 570-577, \\n     July-August 1995.\\n   - W.H. Wolberg, W.N. Street, and O.L. Mangasarian. Machine learning techniques\\n     to diagnose breast cancer from fine-needle aspirates. Cancer Letters 77 (1994) \\n     163-171.',\n",
       " 'feature_names': array(['mean radius', 'mean texture', 'mean perimeter', 'mean area',\n",
       "        'mean smoothness', 'mean compactness', 'mean concavity',\n",
       "        'mean concave points', 'mean symmetry', 'mean fractal dimension',\n",
       "        'radius error', 'texture error', 'perimeter error', 'area error',\n",
       "        'smoothness error', 'compactness error', 'concavity error',\n",
       "        'concave points error', 'symmetry error',\n",
       "        'fractal dimension error', 'worst radius', 'worst texture',\n",
       "        'worst perimeter', 'worst area', 'worst smoothness',\n",
       "        'worst compactness', 'worst concavity', 'worst concave points',\n",
       "        'worst symmetry', 'worst fractal dimension'], dtype='<U23'),\n",
       " 'filename': 'breast_cancer.csv',\n",
       " 'data_module': 'sklearn.datasets.data'}"
      ]
     },
     "execution_count": 2,
     "metadata": {},
     "output_type": "execute_result"
    }
   ],
   "source": [
    "breast_cancer = load_breast_cancer()\n",
    "breast_cancer"
   ]
  },
  {
   "cell_type": "code",
   "execution_count": 3,
   "id": "7bf0421d",
   "metadata": {},
   "outputs": [],
   "source": [
    "x = breast_cancer['data']\n",
    "y = breast_cancer['target']\n",
    "feature_names= breast_cancer['feature_names']"
   ]
  },
  {
   "cell_type": "code",
   "execution_count": 4,
   "id": "859e0442",
   "metadata": {},
   "outputs": [],
   "source": [
    "df = pd.DataFrame(data = breast_cancer.data, columns = breast_cancer.feature_names)\n",
    "df = df.iloc[:, :10] # 10개 피쳐만 사용\n",
    "df[\"label\"] = breast_cancer.target"
   ]
  },
  {
   "cell_type": "code",
   "execution_count": 5,
   "id": "bba6a31e",
   "metadata": {},
   "outputs": [
    {
     "data": {
      "text/html": [
       "<div>\n",
       "<style scoped>\n",
       "    .dataframe tbody tr th:only-of-type {\n",
       "        vertical-align: middle;\n",
       "    }\n",
       "\n",
       "    .dataframe tbody tr th {\n",
       "        vertical-align: top;\n",
       "    }\n",
       "\n",
       "    .dataframe thead th {\n",
       "        text-align: right;\n",
       "    }\n",
       "</style>\n",
       "<table border=\"1\" class=\"dataframe\">\n",
       "  <thead>\n",
       "    <tr style=\"text-align: right;\">\n",
       "      <th></th>\n",
       "      <th>mean radius</th>\n",
       "      <th>mean texture</th>\n",
       "      <th>mean perimeter</th>\n",
       "      <th>mean area</th>\n",
       "      <th>mean smoothness</th>\n",
       "      <th>mean compactness</th>\n",
       "      <th>mean concavity</th>\n",
       "      <th>mean concave points</th>\n",
       "      <th>mean symmetry</th>\n",
       "      <th>mean fractal dimension</th>\n",
       "      <th>label</th>\n",
       "    </tr>\n",
       "  </thead>\n",
       "  <tbody>\n",
       "    <tr>\n",
       "      <th>0</th>\n",
       "      <td>17.99</td>\n",
       "      <td>10.38</td>\n",
       "      <td>122.8</td>\n",
       "      <td>1001.0</td>\n",
       "      <td>0.11840</td>\n",
       "      <td>0.27760</td>\n",
       "      <td>0.3001</td>\n",
       "      <td>0.14710</td>\n",
       "      <td>0.2419</td>\n",
       "      <td>0.07871</td>\n",
       "      <td>0</td>\n",
       "    </tr>\n",
       "    <tr>\n",
       "      <th>1</th>\n",
       "      <td>20.57</td>\n",
       "      <td>17.77</td>\n",
       "      <td>132.9</td>\n",
       "      <td>1326.0</td>\n",
       "      <td>0.08474</td>\n",
       "      <td>0.07864</td>\n",
       "      <td>0.0869</td>\n",
       "      <td>0.07017</td>\n",
       "      <td>0.1812</td>\n",
       "      <td>0.05667</td>\n",
       "      <td>0</td>\n",
       "    </tr>\n",
       "    <tr>\n",
       "      <th>2</th>\n",
       "      <td>19.69</td>\n",
       "      <td>21.25</td>\n",
       "      <td>130.0</td>\n",
       "      <td>1203.0</td>\n",
       "      <td>0.10960</td>\n",
       "      <td>0.15990</td>\n",
       "      <td>0.1974</td>\n",
       "      <td>0.12790</td>\n",
       "      <td>0.2069</td>\n",
       "      <td>0.05999</td>\n",
       "      <td>0</td>\n",
       "    </tr>\n",
       "  </tbody>\n",
       "</table>\n",
       "</div>"
      ],
      "text/plain": [
       "   mean radius  mean texture  mean perimeter  mean area  mean smoothness  \\\n",
       "0        17.99         10.38           122.8     1001.0          0.11840   \n",
       "1        20.57         17.77           132.9     1326.0          0.08474   \n",
       "2        19.69         21.25           130.0     1203.0          0.10960   \n",
       "\n",
       "   mean compactness  mean concavity  mean concave points  mean symmetry  \\\n",
       "0           0.27760          0.3001              0.14710         0.2419   \n",
       "1           0.07864          0.0869              0.07017         0.1812   \n",
       "2           0.15990          0.1974              0.12790         0.2069   \n",
       "\n",
       "   mean fractal dimension  label  \n",
       "0                 0.07871      0  \n",
       "1                 0.05667      0  \n",
       "2                 0.05999      0  "
      ]
     },
     "execution_count": 5,
     "metadata": {},
     "output_type": "execute_result"
    }
   ],
   "source": [
    "df.head(3)"
   ]
  },
  {
   "cell_type": "code",
   "execution_count": 6,
   "id": "48e928dc",
   "metadata": {},
   "outputs": [],
   "source": [
    "from sklearn.model_selection import train_test_split\n",
    "# Step1) train / test 으로 나누기\n",
    "train, test = train_test_split(df, test_size=0.15, random_state=1)\n",
    "\n",
    "# Step2) train을 다시 train/validation 으로 나누기\n",
    "train, val = train_test_split(train, test_size = 0.18, random_state=1)"
   ]
  },
  {
   "cell_type": "code",
   "execution_count": 7,
   "id": "26d76c7d",
   "metadata": {},
   "outputs": [],
   "source": [
    "# features =feature_names[:10]\n",
    "# x_train, x_target = train[features],train['label']"
   ]
  },
  {
   "cell_type": "code",
   "execution_count": 8,
   "id": "faac9774",
   "metadata": {},
   "outputs": [
    {
     "data": {
      "text/plain": [
       "0.5287356321839081"
      ]
     },
     "execution_count": 8,
     "metadata": {},
     "output_type": "execute_result"
    }
   ],
   "source": [
    "# 내가 생각하기에 해야할 것 \n",
    "# step1. 누락값 채우기\n",
    "# step2. scailing하기\n",
    "\n",
    "# 빠뜨린 것 1 baseline 선택\n",
    "# 분류모델에서 사용할 수 있는 가장 기초적인 기준모델은 label을 무조건 train 데이터셋의 최빈 클래스로 예측하는 것이다.\n",
    "from sklearn.metrics import accuracy_score\n",
    "\n",
    "majority_class = train[\"label\"].mode()[0] # dataframe.mode() 열별 최빈값 구함\n",
    "y_pred = [majority_class] * len(val)\n",
    "\n",
    "# train에 대해서가 아니라 val에 대해서 설정 해야함\n",
    "accuracy_score(val[\"label\"], y_pred, normalize=True, sample_weight=None)"
   ]
  },
  {
   "cell_type": "code",
   "execution_count": 9,
   "id": "79d5a612",
   "metadata": {},
   "outputs": [
    {
     "data": {
      "image/png": "[encoded data removed]",
      "text/plain": [
       "<Figure size 1000x800 with 2 Axes>"
      ]
     },
     "metadata": {},
     "output_type": "display_data"
    }
   ],
   "source": [
    "# 빠뜨린 것 2 LR의 피쳐 독립성 가정\n",
    "# feature들 사이에 상관관계가 존재하지 않도록 feature들의 상관계수 도식화 후 feature selection\n",
    "import seaborn as sns\n",
    "import matplotlib.pyplot as plt\n",
    "\n",
    "feature_names= feature_names[:10]\n",
    "corr_matrix= train[feature_names].corr()\n",
    "\n",
    "plt.figure(figsize=(10, 8))\n",
    "sns.heatmap(corr_matrix, annot=True, cmap='coolwarm', center=0)\n",
    "plt.title('Correlation Heatmap')\n",
    "\n",
    "\n",
    "plt.show()"
   ]
  },
  {
   "cell_type": "code",
   "execution_count": 12,
   "id": "d44908f0",
   "metadata": {},
   "outputs": [
    {
     "data": {
      "text/plain": [
       "Index(['mean radius', 'mean texture', 'mean perimeter', 'mean area',\n",
       "       'mean smoothness', 'mean compactness', 'mean concavity',\n",
       "       'mean concave points', 'mean symmetry', 'mean fractal dimension',\n",
       "       'label'],\n",
       "      dtype='object')"
      ]
     },
     "execution_count": 12,
     "metadata": {},
     "output_type": "execute_result"
    }
   ],
   "source": [
    "train.columns"
   ]
  },
  {
   "cell_type": "code",
   "execution_count": 13,
   "id": "47bbaea0",
   "metadata": {},
   "outputs": [
    {
     "name": "stdout",
     "output_type": "stream",
     "text": [
      "feature Matrix:  (396, 6) (87, 6) (86, 6)\n",
      "target vector:  (396,) (87,) (86,)\n"
     ]
    }
   ],
   "source": [
    "feature = [\"mean texture\", \"mean smoothness\", \"mean symmetry\", \"mean fractal dimension\", \"mean area\", \"mean concave points\"]\n",
    "target = \"label\"\n",
    "\n",
    "# train 데이터셋\n",
    "X_train = train[feature]\n",
    "y_train = train[target]\n",
    "\n",
    "# validation 데이터셋\n",
    "X_val = val[feature]\n",
    "y_val = val[target]\n",
    "\n",
    "# test 데이터셋\n",
    "X_test = test[feature]\n",
    "y_test = test[target]\n",
    "\n",
    "# 확인\n",
    "print(\"feature Matrix: \", X_train.shape, X_val.shape, X_test.shape)\n",
    "print(\"target vector: \", y_train.shape, y_val.shape, y_test.shape)"
   ]
  },
  {
   "cell_type": "code",
   "execution_count": 15,
   "id": "a462f2e4",
   "metadata": {},
   "outputs": [
    {
     "data": {
      "text/plain": [
       "mean radius               0\n",
       "mean texture              0\n",
       "mean perimeter            0\n",
       "mean area                 0\n",
       "mean smoothness           0\n",
       "mean compactness          0\n",
       "mean concavity            0\n",
       "mean concave points       0\n",
       "mean symmetry             0\n",
       "mean fractal dimension    0\n",
       "label                     0\n",
       "dtype: int64"
      ]
     },
     "execution_count": 15,
     "metadata": {},
     "output_type": "execute_result"
    }
   ],
   "source": [
    "df.isnull().sum(axis=0)"
   ]
  },
  {
   "cell_type": "code",
   "execution_count": 23,
   "id": "9b6a656e",
   "metadata": {},
   "outputs": [],
   "source": [
    "from sklearn.preprocessing import StandardScaler\n",
    "\n",
    "scaler = StandardScaler()\n",
    "# 수치형, 범주형 섞여있으면\n",
    "#numerical_features = X_train.select_dtypes(include=['float64', 'int64'])\n",
    "#X_train_scaled = pd.DataFrame(scaled_features, columns=numerical_features.columns)\n",
    "X_train_scaled = scaler.fit_transform(X_train)\n",
    "\n",
    "# val, test에 대해서는 fit X\n",
    "X_val_scaled = scaler.transform(X_val)\n",
    "X_test_scaled = scaler.transform(X_test)"
   ]
  },
  {
   "cell_type": "code",
   "execution_count": 26,
   "id": "214c7ef7",
   "metadata": {},
   "outputs": [
    {
     "data": {
      "text/plain": [
       "array([[ 1.88184856, -0.42652671, -0.77212407, -0.22974573, -0.91162877,\n",
       "        -0.51030229],\n",
       "       [ 0.31404631, -0.16354033,  1.55402588,  2.85802639, -1.25157885,\n",
       "        -0.66086904],\n",
       "       [-0.25998259,  0.78671709, -0.59461183,  0.82218038, -0.43656662,\n",
       "         0.10675724],\n",
       "       ...,\n",
       "       [-0.24410036, -0.96582409,  0.24487313, -0.25434373, -0.57543984,\n",
       "        -0.87720969],\n",
       "       [-1.10400927, -0.35078663, -0.29505993,  0.63407805, -1.18416747,\n",
       "        -1.233551  ],\n",
       "       [ 1.26471077,  0.46412048,  0.06736089,  0.81639262, -0.56473503,\n",
       "        -0.10456451]])"
      ]
     },
     "execution_count": 26,
     "metadata": {},
     "output_type": "execute_result"
    }
   ],
   "source": [
    "X_train_scaled"
   ]
  },
  {
   "cell_type": "code",
   "execution_count": 27,
   "id": "25b15b9c",
   "metadata": {},
   "outputs": [
    {
     "name": "stdout",
     "output_type": "stream",
     "text": [
      "validation 데이터셋 정확도\n"
     ]
    },
    {
     "data": {
      "text/plain": [
       "0.47126436781609193"
      ]
     },
     "execution_count": 27,
     "metadata": {},
     "output_type": "execute_result"
    }
   ],
   "source": [
    "from sklearn.linear_model import LogisticRegression\n",
    "\n",
    "# 모델 생성 및 학습 시키기\n",
    "logistic = LogisticRegression()\n",
    "logistic.fit(X_train_scaled, y_train)\n",
    "\n",
    "# 결과 확인\n",
    "print(\"validation 데이터셋 정확도\")\n",
    "logistic.score(X_val_scaled, y_val)"
   ]
  },
  {
   "cell_type": "code",
   "execution_count": 28,
   "id": "15a8f592",
   "metadata": {},
   "outputs": [
    {
     "name": "stdout",
     "output_type": "stream",
     "text": [
      "test 데이터셋 정확도\n"
     ]
    },
    {
     "data": {
      "text/plain": [
       "0.8372093023255814"
      ]
     },
     "execution_count": 28,
     "metadata": {},
     "output_type": "execute_result"
    }
   ],
   "source": [
    "# 은 만들었던 모델 중에서 가장 성능이 좋은 모델을 선택하여 최종 모델을 만드는 것이다. 이때는 validation 데이터셋도 학습에 사용한다. \n",
    "# 그리고 최종 모델의 성능은 test 데이터셋을 사용하여 평가한다.\n",
    "\n",
    "# train 데이터셋과 validation 데이터셋 합치기\n",
    "X_total = pd.concat([X_train, X_test])\n",
    "y_total = pd.concat([y_train, y_test])\n",
    "\n",
    "# feature/taraget 설정\n",
    "feature = [\"mean_texture\", \"mean_smoothness\", \"mean_symmetry\", \"mean_fractal_dimension\", \"mean_radius\", \"mean_concave_points\"]\n",
    "target = \"label\"\n",
    "\n",
    "# 스케일러 생성\n",
    "scaler = StandardScaler()\n",
    "\n",
    "# 스케일 조정\n",
    "X_total_sclaed = scaler.fit_transform(X_total)\n",
    "X_test_scaled = scaler.transform(X_test)\n",
    "\n",
    "# 모델 생성 및 학습 시키기\n",
    "model = LogisticRegression()\n",
    "model.fit(X_total_sclaed, y_total)\n",
    "\n",
    "# 결과 확인\n",
    "print(\"test 데이터셋 정확도\")\n",
    "model.score(X_test_scaled, y_test)"
   ]
  },
  {
   "cell_type": "code",
   "execution_count": 29,
   "id": "5601f2c2",
   "metadata": {},
   "outputs": [
    {
     "data": {
      "text/plain": [
       "mean_fractal_dimension    0.671201\n",
       "mean_texture              0.543807\n",
       "mean_smoothness           0.116660\n",
       "mean_symmetry            -0.198860\n",
       "mean_radius              -0.970207\n",
       "mean_concave_points      -3.853434\n",
       "dtype: float64"
      ]
     },
     "execution_count": 29,
     "metadata": {},
     "output_type": "execute_result"
    }
   ],
   "source": [
    "# 이 모델의 회귀계수\n",
    "model_coef = pd.Series(model.coef_[0], feature).sort_values(ascending=False)\n",
    "model_coef"
   ]
  },
  {
   "cell_type": "markdown",
   "id": "f4248a01",
   "metadata": {},
   "source": [
    "# 문제지\n",
    "1. 라이브러리 및 패키지 import\n",
    "2. 데이터 분할\n",
    "3. baseline 선택\n",
    "4. 상관계수 도식화 후 feature selection\n",
    "5. Scailing\n",
    "6. 모델 생성 및 학습 시키기\n",
    "7. 결과 확인"
   ]
  },
  {
   "cell_type": "code",
   "execution_count": 1,
   "id": "b9281575",
   "metadata": {},
   "outputs": [],
   "source": [
    "# 1. 라이브러리 및 패키지 import\n",
    "import pandas as pd\n",
    "import numpy as np\n",
    "import matplotlib.pyplot as plt\n",
    "from sklearn.datasets import load_breast_cancer"
   ]
  },
  {
   "cell_type": "code",
   "execution_count": null,
   "id": "a5f7a3b2",
   "metadata": {},
   "outputs": [],
   "source": [
    "# 1. 라이브러리 및 패키지 import"
   ]
  },
  {
   "cell_type": "markdown",
   "id": "8e16dabc",
   "metadata": {},
   "source": [
    "---"
   ]
  },
  {
   "cell_type": "code",
   "execution_count": 23,
   "id": "07aa6b93",
   "metadata": {},
   "outputs": [],
   "source": [
    "# 2. 데이터 분할\n",
    "# Step1) train / test 으로 나누기\n",
    "# Step2) train을 다시 train/validation 으로 나누기\n",
    "breast_cancer = load_breast_cancer()\n",
    "\n",
    "# pd.DataFrame로 변환\n",
    "df = pd.DataFrame(data = breast_cancer.data, columns = breast_cancer.feature_names)"
   ]
  },
  {
   "cell_type": "code",
   "execution_count": 24,
   "id": "ba06b7ca",
   "metadata": {},
   "outputs": [
    {
     "data": {
      "text/plain": [
       "(569, 30)"
      ]
     },
     "execution_count": 24,
     "metadata": {},
     "output_type": "execute_result"
    }
   ],
   "source": [
    "df.shape"
   ]
  },
  {
   "cell_type": "code",
   "execution_count": 25,
   "id": "3851b3be",
   "metadata": {},
   "outputs": [
    {
     "data": {
      "text/html": [
       "<div>\n",
       "<style scoped>\n",
       "    .dataframe tbody tr th:only-of-type {\n",
       "        vertical-align: middle;\n",
       "    }\n",
       "\n",
       "    .dataframe tbody tr th {\n",
       "        vertical-align: top;\n",
       "    }\n",
       "\n",
       "    .dataframe thead th {\n",
       "        text-align: right;\n",
       "    }\n",
       "</style>\n",
       "<table border=\"1\" class=\"dataframe\">\n",
       "  <thead>\n",
       "    <tr style=\"text-align: right;\">\n",
       "      <th></th>\n",
       "      <th>mean radius</th>\n",
       "      <th>mean texture</th>\n",
       "      <th>mean perimeter</th>\n",
       "      <th>mean area</th>\n",
       "      <th>mean smoothness</th>\n",
       "      <th>mean compactness</th>\n",
       "      <th>mean concavity</th>\n",
       "      <th>mean concave points</th>\n",
       "      <th>mean symmetry</th>\n",
       "      <th>mean fractal dimension</th>\n",
       "      <th>...</th>\n",
       "      <th>worst radius</th>\n",
       "      <th>worst texture</th>\n",
       "      <th>worst perimeter</th>\n",
       "      <th>worst area</th>\n",
       "      <th>worst smoothness</th>\n",
       "      <th>worst compactness</th>\n",
       "      <th>worst concavity</th>\n",
       "      <th>worst concave points</th>\n",
       "      <th>worst symmetry</th>\n",
       "      <th>worst fractal dimension</th>\n",
       "    </tr>\n",
       "  </thead>\n",
       "  <tbody>\n",
       "    <tr>\n",
       "      <th>0</th>\n",
       "      <td>17.99</td>\n",
       "      <td>10.38</td>\n",
       "      <td>122.8</td>\n",
       "      <td>1001.0</td>\n",
       "      <td>0.1184</td>\n",
       "      <td>0.2776</td>\n",
       "      <td>0.3001</td>\n",
       "      <td>0.1471</td>\n",
       "      <td>0.2419</td>\n",
       "      <td>0.07871</td>\n",
       "      <td>...</td>\n",
       "      <td>25.38</td>\n",
       "      <td>17.33</td>\n",
       "      <td>184.6</td>\n",
       "      <td>2019.0</td>\n",
       "      <td>0.1622</td>\n",
       "      <td>0.6656</td>\n",
       "      <td>0.7119</td>\n",
       "      <td>0.2654</td>\n",
       "      <td>0.4601</td>\n",
       "      <td>0.1189</td>\n",
       "    </tr>\n",
       "  </tbody>\n",
       "</table>\n",
       "<p>1 rows × 30 columns</p>\n",
       "</div>"
      ],
      "text/plain": [
       "   mean radius  mean texture  mean perimeter  mean area  mean smoothness  \\\n",
       "0        17.99         10.38           122.8     1001.0           0.1184   \n",
       "\n",
       "   mean compactness  mean concavity  mean concave points  mean symmetry  \\\n",
       "0            0.2776          0.3001               0.1471         0.2419   \n",
       "\n",
       "   mean fractal dimension  ...  worst radius  worst texture  worst perimeter  \\\n",
       "0                 0.07871  ...         25.38          17.33            184.6   \n",
       "\n",
       "   worst area  worst smoothness  worst compactness  worst concavity  \\\n",
       "0      2019.0            0.1622             0.6656           0.7119   \n",
       "\n",
       "   worst concave points  worst symmetry  worst fractal dimension  \n",
       "0                0.2654          0.4601                   0.1189  \n",
       "\n",
       "[1 rows x 30 columns]"
      ]
     },
     "execution_count": 25,
     "metadata": {},
     "output_type": "execute_result"
    }
   ],
   "source": [
    "df.head(1)"
   ]
  },
  {
   "cell_type": "code",
   "execution_count": 34,
   "id": "3fc5728f",
   "metadata": {},
   "outputs": [],
   "source": [
    "X, y = df, pd.DataFrame(data =breast_cancer.target)"
   ]
  },
  {
   "cell_type": "code",
   "execution_count": 35,
   "id": "a7a18059",
   "metadata": {},
   "outputs": [],
   "source": [
    "from sklearn.model_selection import train_test_split\n",
    "#train_test_split(arrays, test_size, train_size, random_state, shuffle, stratify)\n",
    "X_train, X_test, y_train, y_test= train_test_split(X, y,train_size=0.8)"
   ]
  },
  {
   "cell_type": "code",
   "execution_count": 36,
   "id": "9676d300",
   "metadata": {},
   "outputs": [
    {
     "name": "stdout",
     "output_type": "stream",
     "text": [
      "(455, 30) (114, 30) (455, 1) (114, 1)\n"
     ]
    }
   ],
   "source": [
    "print(X_train.shape, X_test.shape, y_train.shape, y_test.shape)"
   ]
  },
  {
   "cell_type": "code",
   "execution_count": 37,
   "id": "db4456b1",
   "metadata": {},
   "outputs": [],
   "source": [
    "X_train, X_val, y_train, y_val= train_test_split(X_train, y_train, train_size=0.8)"
   ]
  },
  {
   "cell_type": "code",
   "execution_count": 38,
   "id": "56b255ae",
   "metadata": {},
   "outputs": [
    {
     "name": "stdout",
     "output_type": "stream",
     "text": [
      "(364, 30) (91, 30) (364, 1) (91, 1)\n"
     ]
    }
   ],
   "source": [
    "print(X_train.shape, X_val.shape, y_train.shape, y_val.shape)"
   ]
  },
  {
   "cell_type": "code",
   "execution_count": null,
   "id": "de34b5fd",
   "metadata": {},
   "outputs": [],
   "source": [
    "# 2. 데이터 분할\n",
    "# Step1) train / test 으로 나누기\n",
    "# Step2) train을 다시 train/validation 으로 나누기"
   ]
  },
  {
   "cell_type": "markdown",
   "id": "b87e724a",
   "metadata": {},
   "source": [
    "---"
   ]
  },
  {
   "cell_type": "code",
   "execution_count": 44,
   "id": "e181bbf5",
   "metadata": {},
   "outputs": [
    {
     "name": "stdout",
     "output_type": "stream",
     "text": [
      "1    66\n",
      "0    25\n",
      "Name: count, dtype: int64\n"
     ]
    }
   ],
   "source": [
    "# 3. baseline 선택\n",
    "# majority_class = train[\"label\"].mode()[0] # dataframe.mode() 열별 최빈값 구함\n",
    "majority_class= y_val.value_counts()\n",
    "print(majority_class)"
   ]
  },
  {
   "cell_type": "code",
   "execution_count": 46,
   "id": "80e3875b",
   "metadata": {},
   "outputs": [
    {
     "name": "stdout",
     "output_type": "stream",
     "text": [
      "0.7252747252747253\n"
     ]
    }
   ],
   "source": [
    "from sklearn.metrics import accuracy_score\n",
    "y_pred= [1]*len(y_val)\n",
    "accuracy =accuracy_score(y_val, y_pred)\n",
    "print(accuracy)"
   ]
  },
  {
   "cell_type": "code",
   "execution_count": null,
   "id": "f54656de",
   "metadata": {},
   "outputs": [],
   "source": [
    "# 3. baseline 선택"
   ]
  },
  {
   "cell_type": "markdown",
   "id": "8b7cb1f9",
   "metadata": {},
   "source": [
    "---"
   ]
  },
  {
   "cell_type": "code",
   "execution_count": 52,
   "id": "b45890c5",
   "metadata": {},
   "outputs": [],
   "source": [
    "# 4. 상관계수 도식화 후 feature selection\n",
    "# 상관행렬 계산\n",
    "corr_matrix = X_train.corr().abs()\n",
    "\n",
    "# 상관행렬의 상삼각행렬 (자기 자신 제외)\n",
    "upper_triangle = corr_matrix.where(np.triu(np.ones(corr_matrix.shape), k=1).astype(bool))\n",
    "\n",
    "# 상관관계가 가장 작은 피쳐 쌍 선택\n",
    "smallest_pairs = upper_triangle.unstack().sort_values().dropna().head(10)\n",
    "\n",
    "# 선택된 피쳐 쌍들 중에서 고유한 피쳐들 선택\n",
    "selected_features = pd.Index(smallest_pairs.index.get_level_values(0).tolist() + smallest_pairs.index.get_level_values(1).tolist()).unique()\n",
    "\n",
    "# 상관관계 적은 피쳐들 10개 선택 (만약 피쳐 수가 10개보다 적다면 해당 피쳐들 반환)\n",
    "selected_features = selected_features[:10]"
   ]
  },
  {
   "cell_type": "code",
   "execution_count": 53,
   "id": "562f817f",
   "metadata": {},
   "outputs": [
    {
     "data": {
      "text/plain": [
       "Index(['worst concavity', 'texture error', 'worst fractal dimension',\n",
       "       'worst compactness', 'fractal dimension error', 'worst texture',\n",
       "       'worst perimeter', 'worst smoothness', 'symmetry error',\n",
       "       'mean concave points'],\n",
       "      dtype='object')"
      ]
     },
     "execution_count": 53,
     "metadata": {},
     "output_type": "execute_result"
    }
   ],
   "source": [
    "selected_features"
   ]
  },
  {
   "cell_type": "code",
   "execution_count": null,
   "id": "2aeba9ea",
   "metadata": {},
   "outputs": [],
   "source": [
    "# 4. 상관계수 도식화 후 feature selection"
   ]
  },
  {
   "cell_type": "markdown",
   "id": "b1f98b26",
   "metadata": {},
   "source": [
    "---"
   ]
  },
  {
   "cell_type": "code",
   "execution_count": 55,
   "id": "652c7512",
   "metadata": {},
   "outputs": [],
   "source": [
    "# 5. Scailing\n",
    "from sklearn.preprocessing import StandardScaler\n",
    "scaler= StandardScaler()\n",
    "\n",
    "X_train_scaled = scaler.fit_transform(X_train)\n",
    "X_val_scaled = scaler.transform(X_val)"
   ]
  },
  {
   "cell_type": "code",
   "execution_count": null,
   "id": "c81c1108",
   "metadata": {},
   "outputs": [],
   "source": [
    "# 5. Scailing"
   ]
  },
  {
   "cell_type": "markdown",
   "id": "4a01a9ca",
   "metadata": {},
   "source": [
    "---"
   ]
  },
  {
   "cell_type": "code",
   "execution_count": 56,
   "id": "65fd29cf",
   "metadata": {},
   "outputs": [
    {
     "name": "stderr",
     "output_type": "stream",
     "text": [
      "/Users/user/.pyenv/versions/3.9.2/lib/python3.9/site-packages/sklearn/utils/validation.py:1184: DataConversionWarning: A column-vector y was passed when a 1d array was expected. Please change the shape of y to (n_samples, ), for example using ravel().\n",
      "  y = column_or_1d(y, warn=True)\n"
     ]
    },
    {
     "data": {
      "text/plain": [
       "0.989010989010989"
      ]
     },
     "execution_count": 56,
     "metadata": {},
     "output_type": "execute_result"
    }
   ],
   "source": [
    "# 6. 모델 생성 및 학습 시키기\n",
    "from sklearn.linear_model import LogisticRegression\n",
    "\n",
    "model = LogisticRegression()\n",
    "model.fit(X_train_scaled, y_train)\n",
    "\n",
    "model.score(X_val_scaled, y_val)"
   ]
  },
  {
   "cell_type": "code",
   "execution_count": null,
   "id": "4ecffdd4",
   "metadata": {},
   "outputs": [],
   "source": [
    "# 6. 모델 생성 및 학습 시키기"
   ]
  },
  {
   "cell_type": "markdown",
   "id": "dc6f27d1",
   "metadata": {},
   "source": [
    "---"
   ]
  },
  {
   "cell_type": "code",
   "execution_count": 57,
   "id": "98f93115",
   "metadata": {},
   "outputs": [
    {
     "data": {
      "text/plain": [
       "0.9736842105263158"
      ]
     },
     "execution_count": 57,
     "metadata": {},
     "output_type": "execute_result"
    }
   ],
   "source": [
    "# 7. 결과 확인\n",
    "X_test_scaled= scaler.transform(X_test)\n",
    "model.score(X_test_scaled, y_test)"
   ]
  },
  {
   "cell_type": "code",
   "execution_count": null,
   "id": "603ffa9f",
   "metadata": {},
   "outputs": [],
   "source": [
    "# 7. 결과 확인"
   ]
  }
 ],
 "metadata": {
  "kernelspec": {
   "display_name": "Python 3 (ipykernel)",
   "language": "python",
   "name": "python3"
  },
  "language_info": {
   "codemirror_mode": {
    "name": "ipython",
    "version": 3
   },
   "file_extension": ".py",
   "mimetype": "text/x-python",
   "name": "python",
   "nbconvert_exporter": "python",
   "pygments_lexer": "ipython3",
   "version": "3.9.2"
  }
 },
 "nbformat": 4,
 "nbformat_minor": 5
}
