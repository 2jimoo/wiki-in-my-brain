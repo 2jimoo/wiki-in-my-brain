{
 "cells": [
  {
   "cell_type": "markdown",
   "id": "39597563",
   "metadata": {},
   "source": [
    "# Answer\n",
    "- 이미지 데이터 세트에서 숫자를 올바르게 식별하세요.\n",
    "- https://www.kaggle.com/code/kanncaa1/convolutional-neural-network-cnn-tutorial"
   ]
  },
  {
   "cell_type": "code",
   "execution_count": 4,
   "id": "d7a97b2c",
   "metadata": {},
   "outputs": [],
   "source": [
    "import pandas as pd\n",
    "\n",
    "df = pd.read_csv('./digit/train.csv')"
   ]
  },
  {
   "cell_type": "code",
   "execution_count": 5,
   "id": "a2c310d9",
   "metadata": {},
   "outputs": [
    {
     "data": {
      "text/html": [
       "<div>\n",
       "<style scoped>\n",
       "    .dataframe tbody tr th:only-of-type {\n",
       "        vertical-align: middle;\n",
       "    }\n",
       "\n",
       "    .dataframe tbody tr th {\n",
       "        vertical-align: top;\n",
       "    }\n",
       "\n",
       "    .dataframe thead th {\n",
       "        text-align: right;\n",
       "    }\n",
       "</style>\n",
       "<table border=\"1\" class=\"dataframe\">\n",
       "  <thead>\n",
       "    <tr style=\"text-align: right;\">\n",
       "      <th></th>\n",
       "      <th>label</th>\n",
       "      <th>pixel0</th>\n",
       "      <th>pixel1</th>\n",
       "      <th>pixel2</th>\n",
       "      <th>pixel3</th>\n",
       "      <th>pixel4</th>\n",
       "      <th>pixel5</th>\n",
       "      <th>pixel6</th>\n",
       "      <th>pixel7</th>\n",
       "      <th>pixel8</th>\n",
       "      <th>...</th>\n",
       "      <th>pixel774</th>\n",
       "      <th>pixel775</th>\n",
       "      <th>pixel776</th>\n",
       "      <th>pixel777</th>\n",
       "      <th>pixel778</th>\n",
       "      <th>pixel779</th>\n",
       "      <th>pixel780</th>\n",
       "      <th>pixel781</th>\n",
       "      <th>pixel782</th>\n",
       "      <th>pixel783</th>\n",
       "    </tr>\n",
       "  </thead>\n",
       "  <tbody>\n",
       "    <tr>\n",
       "      <th>0</th>\n",
       "      <td>1</td>\n",
       "      <td>0</td>\n",
       "      <td>0</td>\n",
       "      <td>0</td>\n",
       "      <td>0</td>\n",
       "      <td>0</td>\n",
       "      <td>0</td>\n",
       "      <td>0</td>\n",
       "      <td>0</td>\n",
       "      <td>0</td>\n",
       "      <td>...</td>\n",
       "      <td>0</td>\n",
       "      <td>0</td>\n",
       "      <td>0</td>\n",
       "      <td>0</td>\n",
       "      <td>0</td>\n",
       "      <td>0</td>\n",
       "      <td>0</td>\n",
       "      <td>0</td>\n",
       "      <td>0</td>\n",
       "      <td>0</td>\n",
       "    </tr>\n",
       "    <tr>\n",
       "      <th>1</th>\n",
       "      <td>0</td>\n",
       "      <td>0</td>\n",
       "      <td>0</td>\n",
       "      <td>0</td>\n",
       "      <td>0</td>\n",
       "      <td>0</td>\n",
       "      <td>0</td>\n",
       "      <td>0</td>\n",
       "      <td>0</td>\n",
       "      <td>0</td>\n",
       "      <td>...</td>\n",
       "      <td>0</td>\n",
       "      <td>0</td>\n",
       "      <td>0</td>\n",
       "      <td>0</td>\n",
       "      <td>0</td>\n",
       "      <td>0</td>\n",
       "      <td>0</td>\n",
       "      <td>0</td>\n",
       "      <td>0</td>\n",
       "      <td>0</td>\n",
       "    </tr>\n",
       "    <tr>\n",
       "      <th>2</th>\n",
       "      <td>1</td>\n",
       "      <td>0</td>\n",
       "      <td>0</td>\n",
       "      <td>0</td>\n",
       "      <td>0</td>\n",
       "      <td>0</td>\n",
       "      <td>0</td>\n",
       "      <td>0</td>\n",
       "      <td>0</td>\n",
       "      <td>0</td>\n",
       "      <td>...</td>\n",
       "      <td>0</td>\n",
       "      <td>0</td>\n",
       "      <td>0</td>\n",
       "      <td>0</td>\n",
       "      <td>0</td>\n",
       "      <td>0</td>\n",
       "      <td>0</td>\n",
       "      <td>0</td>\n",
       "      <td>0</td>\n",
       "      <td>0</td>\n",
       "    </tr>\n",
       "  </tbody>\n",
       "</table>\n",
       "<p>3 rows × 785 columns</p>\n",
       "</div>"
      ],
      "text/plain": [
       "   label  pixel0  pixel1  pixel2  pixel3  pixel4  pixel5  pixel6  pixel7  \\\n",
       "0      1       0       0       0       0       0       0       0       0   \n",
       "1      0       0       0       0       0       0       0       0       0   \n",
       "2      1       0       0       0       0       0       0       0       0   \n",
       "\n",
       "   pixel8  ...  pixel774  pixel775  pixel776  pixel777  pixel778  pixel779  \\\n",
       "0       0  ...         0         0         0         0         0         0   \n",
       "1       0  ...         0         0         0         0         0         0   \n",
       "2       0  ...         0         0         0         0         0         0   \n",
       "\n",
       "   pixel780  pixel781  pixel782  pixel783  \n",
       "0         0         0         0         0  \n",
       "1         0         0         0         0  \n",
       "2         0         0         0         0  \n",
       "\n",
       "[3 rows x 785 columns]"
      ]
     },
     "execution_count": 5,
     "metadata": {},
     "output_type": "execute_result"
    }
   ],
   "source": [
    "df.head(3)"
   ]
  },
  {
   "cell_type": "code",
   "execution_count": 6,
   "id": "3f6609cd",
   "metadata": {},
   "outputs": [
    {
     "name": "stdout",
     "output_type": "stream",
     "text": [
      "<class 'pandas.core.frame.DataFrame'>\n",
      "RangeIndex: 42000 entries, 0 to 41999\n",
      "Columns: 785 entries, label to pixel783\n",
      "dtypes: int64(785)\n",
      "memory usage: 251.5 MB\n"
     ]
    }
   ],
   "source": [
    "df.info()"
   ]
  },
  {
   "cell_type": "markdown",
   "id": "fb4a668e",
   "metadata": {},
   "source": [
    "# My Approach\n",
    "1. 데이터 불러오기\n",
    "    - 이미지 전처리: 사이즈, 스케일링\n",
    "    - Normalization, Reshape and Label Encoding\n",
    "2. 모델 선택\n",
    "    - CNN(Pytorch/Keras)\n",
    "        - Same Padding\n",
    "        - Max Pooling\n",
    "        - Flattening\n",
    "        - Full Connection\n",
    "6. 훈련\n",
    "    - train, validation 나누기\n",
    "    - Define Optimizer\n",
    "    - Epochs and Batch Size\n",
    "    - data augmentation 적용\n",
    "7. 예측"
   ]
  },
  {
   "cell_type": "code",
   "execution_count": null,
   "id": "f26df653",
   "metadata": {},
   "outputs": [],
   "source": [
    "# 1-1. 데이터 불러오기"
   ]
  },
  {
   "cell_type": "code",
   "execution_count": null,
   "id": "1a21ac3e",
   "metadata": {},
   "outputs": [],
   "source": [
    "# 1-1. 데이터 불러오기"
   ]
  },
  {
   "cell_type": "markdown",
   "id": "03a3466f",
   "metadata": {},
   "source": [
    "---"
   ]
  },
  {
   "cell_type": "code",
   "execution_count": null,
   "id": "ce262e65",
   "metadata": {},
   "outputs": [],
   "source": [
    "# 1-2. 이미지 전처리: 사이즈, 스케일링, Normalization, Reshape and Label Encoding"
   ]
  },
  {
   "cell_type": "code",
   "execution_count": null,
   "id": "b2e188d4",
   "metadata": {},
   "outputs": [],
   "source": [
    "# 1-2. 이미지 전처리: 사이즈, 스케일링, Normalization, Reshape and Label Encoding"
   ]
  },
  {
   "cell_type": "markdown",
   "id": "a06be638",
   "metadata": {},
   "source": [
    "---"
   ]
  },
  {
   "cell_type": "code",
   "execution_count": null,
   "id": "1553bf86",
   "metadata": {},
   "outputs": [],
   "source": [
    "# 2. 모델 선택 - CNN"
   ]
  },
  {
   "cell_type": "code",
   "execution_count": null,
   "id": "21f7f339",
   "metadata": {},
   "outputs": [],
   "source": [
    "# 2. 모델 선택 - CNN"
   ]
  },
  {
   "cell_type": "markdown",
   "id": "a7ac7811",
   "metadata": {},
   "source": [
    "---"
   ]
  },
  {
   "cell_type": "code",
   "execution_count": null,
   "id": "5f6843c8",
   "metadata": {},
   "outputs": [],
   "source": [
    "# 3-1. train, validation 나누기"
   ]
  },
  {
   "cell_type": "code",
   "execution_count": null,
   "id": "5f5d2be4",
   "metadata": {},
   "outputs": [],
   "source": [
    "# 3-1. train, validation 나누기"
   ]
  },
  {
   "cell_type": "markdown",
   "id": "b753b7f2",
   "metadata": {},
   "source": [
    "---"
   ]
  },
  {
   "cell_type": "code",
   "execution_count": null,
   "id": "c0c6cf8c",
   "metadata": {},
   "outputs": [],
   "source": [
    "# 3-2. Define Optimizer"
   ]
  },
  {
   "cell_type": "code",
   "execution_count": null,
   "id": "c10eead2",
   "metadata": {},
   "outputs": [],
   "source": [
    "# 3-2. Define Optimizer"
   ]
  },
  {
   "cell_type": "markdown",
   "id": "974bd55a",
   "metadata": {},
   "source": [
    "---"
   ]
  },
  {
   "cell_type": "code",
   "execution_count": null,
   "id": "4d290041",
   "metadata": {},
   "outputs": [],
   "source": [
    "# 3-3. Epochs and Batch Size"
   ]
  },
  {
   "cell_type": "code",
   "execution_count": null,
   "id": "e1a43d17",
   "metadata": {},
   "outputs": [],
   "source": [
    "# 3-3. Epochs and Batch Size"
   ]
  },
  {
   "cell_type": "markdown",
   "id": "99b65efd",
   "metadata": {},
   "source": [
    "---"
   ]
  },
  {
   "cell_type": "code",
   "execution_count": null,
   "id": "0308697a",
   "metadata": {},
   "outputs": [],
   "source": [
    "# 3-4. data augmentation 적용"
   ]
  },
  {
   "cell_type": "code",
   "execution_count": null,
   "id": "a146b222",
   "metadata": {},
   "outputs": [],
   "source": [
    "# 3-4. data augmentation 적용"
   ]
  },
  {
   "cell_type": "markdown",
   "id": "1ed9d9e3",
   "metadata": {},
   "source": [
    "---"
   ]
  },
  {
   "cell_type": "code",
   "execution_count": null,
   "id": "49731c3e",
   "metadata": {},
   "outputs": [],
   "source": [
    "# 4. 예측"
   ]
  },
  {
   "cell_type": "code",
   "execution_count": null,
   "id": "f16df9c5",
   "metadata": {},
   "outputs": [],
   "source": [
    "# 4. 예측"
   ]
  }
 ],
 "metadata": {
  "kernelspec": {
   "display_name": "Python 3 (ipykernel)",
   "language": "python",
   "name": "python3"
  },
  "language_info": {
   "codemirror_mode": {
    "name": "ipython",
    "version": 3
   },
   "file_extension": ".py",
   "mimetype": "text/x-python",
   "name": "python",
   "nbconvert_exporter": "python",
   "pygments_lexer": "ipython3",
   "version": "3.9.2"
  }
 },
 "nbformat": 4,
 "nbformat_minor": 5
}
