{
 "cells": [
  {
   "cell_type": "markdown",
   "id": "f24e5b45",
   "metadata": {},
   "source": [
    "# Answer\n",
    "- 당신은 주어진 트윗이실제 재난에 관한 것이라면 1을 예측하고, 그렇지 않다면 0을 예측하세요.\n",
    "- https://www.kaggle.com/code/philculliton/nlp-getting-started-tutorial\n",
    "- https://www.kaggle.com/code/gunesevitan/nlp-with-disaster-tweets-eda-cleaning-and-bert"
   ]
  },
  {
   "cell_type": "code",
   "execution_count": 14,
   "id": "4fbe8483",
   "metadata": {},
   "outputs": [],
   "source": [
    "import pandas as pd\n",
    "\n",
    "df = pd.read_csv('./tweets/train.csv')"
   ]
  },
  {
   "cell_type": "code",
   "execution_count": 15,
   "id": "0717d2f6",
   "metadata": {},
   "outputs": [
    {
     "data": {
      "text/html": [
       "<div>\n",
       "<style scoped>\n",
       "    .dataframe tbody tr th:only-of-type {\n",
       "        vertical-align: middle;\n",
       "    }\n",
       "\n",
       "    .dataframe tbody tr th {\n",
       "        vertical-align: top;\n",
       "    }\n",
       "\n",
       "    .dataframe thead th {\n",
       "        text-align: right;\n",
       "    }\n",
       "</style>\n",
       "<table border=\"1\" class=\"dataframe\">\n",
       "  <thead>\n",
       "    <tr style=\"text-align: right;\">\n",
       "      <th></th>\n",
       "      <th>id</th>\n",
       "      <th>keyword</th>\n",
       "      <th>location</th>\n",
       "      <th>text</th>\n",
       "      <th>target</th>\n",
       "    </tr>\n",
       "  </thead>\n",
       "  <tbody>\n",
       "    <tr>\n",
       "      <th>0</th>\n",
       "      <td>1</td>\n",
       "      <td>NaN</td>\n",
       "      <td>NaN</td>\n",
       "      <td>Our Deeds are the Reason of this #earthquake M...</td>\n",
       "      <td>1</td>\n",
       "    </tr>\n",
       "    <tr>\n",
       "      <th>1</th>\n",
       "      <td>4</td>\n",
       "      <td>NaN</td>\n",
       "      <td>NaN</td>\n",
       "      <td>Forest fire near La Ronge Sask. Canada</td>\n",
       "      <td>1</td>\n",
       "    </tr>\n",
       "    <tr>\n",
       "      <th>2</th>\n",
       "      <td>5</td>\n",
       "      <td>NaN</td>\n",
       "      <td>NaN</td>\n",
       "      <td>All residents asked to 'shelter in place' are ...</td>\n",
       "      <td>1</td>\n",
       "    </tr>\n",
       "    <tr>\n",
       "      <th>3</th>\n",
       "      <td>6</td>\n",
       "      <td>NaN</td>\n",
       "      <td>NaN</td>\n",
       "      <td>13,000 people receive #wildfires evacuation or...</td>\n",
       "      <td>1</td>\n",
       "    </tr>\n",
       "    <tr>\n",
       "      <th>4</th>\n",
       "      <td>7</td>\n",
       "      <td>NaN</td>\n",
       "      <td>NaN</td>\n",
       "      <td>Just got sent this photo from Ruby #Alaska as ...</td>\n",
       "      <td>1</td>\n",
       "    </tr>\n",
       "  </tbody>\n",
       "</table>\n",
       "</div>"
      ],
      "text/plain": [
       "   id keyword location                                               text  \\\n",
       "0   1     NaN      NaN  Our Deeds are the Reason of this #earthquake M...   \n",
       "1   4     NaN      NaN             Forest fire near La Ronge Sask. Canada   \n",
       "2   5     NaN      NaN  All residents asked to 'shelter in place' are ...   \n",
       "3   6     NaN      NaN  13,000 people receive #wildfires evacuation or...   \n",
       "4   7     NaN      NaN  Just got sent this photo from Ruby #Alaska as ...   \n",
       "\n",
       "   target  \n",
       "0       1  \n",
       "1       1  \n",
       "2       1  \n",
       "3       1  \n",
       "4       1  "
      ]
     },
     "execution_count": 15,
     "metadata": {},
     "output_type": "execute_result"
    }
   ],
   "source": [
    "df.head(5)"
   ]
  },
  {
   "cell_type": "code",
   "execution_count": 16,
   "id": "82255e47",
   "metadata": {},
   "outputs": [
    {
     "name": "stdout",
     "output_type": "stream",
     "text": [
      "<class 'pandas.core.frame.DataFrame'>\n",
      "RangeIndex: 7613 entries, 0 to 7612\n",
      "Data columns (total 5 columns):\n",
      " #   Column    Non-Null Count  Dtype \n",
      "---  ------    --------------  ----- \n",
      " 0   id        7613 non-null   int64 \n",
      " 1   keyword   7552 non-null   object\n",
      " 2   location  5080 non-null   object\n",
      " 3   text      7613 non-null   object\n",
      " 4   target    7613 non-null   int64 \n",
      "dtypes: int64(2), object(3)\n",
      "memory usage: 297.5+ KB\n"
     ]
    }
   ],
   "source": [
    "df.info()"
   ]
  },
  {
   "cell_type": "code",
   "execution_count": 20,
   "id": "eccb1e98",
   "metadata": {},
   "outputs": [],
   "source": [
    "columns= train.columns"
   ]
  },
  {
   "cell_type": "markdown",
   "id": "2b7da4c9",
   "metadata": {},
   "source": [
    "# My Approach\n",
    "1. 데이터 불러오기\n",
    "2.  피처 엔지니어링\n",
    "    - Missing Values(keyword, location)\n",
    "    - 텍스트 전처리: 토크나이징, 불용어 제거, lemmination 등\n",
    "    - 텍스트 임베딩(opt)\n",
    "        - CountVectorizer\n",
    "        - GloVe, FastText, BERT\n",
    "    - Meta Features 생성\n",
    "    - Target and N-grams\n",
    "    - Mislabeled Samples 처리\n",
    "2. 모델 선택\n",
    "    - 메트릭\n",
    "        - F1 Score\n",
    "    - 임베딩한 트윗을 DNN에 넣어서 분류시키기\n",
    "        - RidgeClassifier\n",
    "        - MLP layer\n",
    "6. 훈련\n",
    "    - train, validation(StratifiedKFold)\n",
    "7. 예측"
   ]
  },
  {
   "cell_type": "code",
   "execution_count": null,
   "id": "b4238448",
   "metadata": {},
   "outputs": [],
   "source": [
    "# 1. 데이터 불러오기"
   ]
  },
  {
   "cell_type": "code",
   "execution_count": null,
   "id": "54b2d5a1",
   "metadata": {},
   "outputs": [],
   "source": [
    "# 1. 데이터 불러오기"
   ]
  },
  {
   "cell_type": "markdown",
   "id": "a4b67bf4",
   "metadata": {},
   "source": [
    "---"
   ]
  },
  {
   "cell_type": "code",
   "execution_count": null,
   "id": "d71130e4",
   "metadata": {},
   "outputs": [],
   "source": [
    "# 2-1. 피처 엔지니어링 :Missing Values(keyword, location)"
   ]
  },
  {
   "cell_type": "code",
   "execution_count": null,
   "id": "2eb1fa3c",
   "metadata": {},
   "outputs": [],
   "source": [
    "# 2-1. 피처 엔지니어링 :Missing Values(keyword, location)"
   ]
  },
  {
   "cell_type": "markdown",
   "id": "4e15d7c7",
   "metadata": {},
   "source": [
    "---"
   ]
  },
  {
   "cell_type": "code",
   "execution_count": null,
   "id": "effab5ee",
   "metadata": {},
   "outputs": [],
   "source": [
    "# 2-2. 텍스트 전처리: 토크나이징, 불용어 제거, lemmination 등"
   ]
  },
  {
   "cell_type": "code",
   "execution_count": null,
   "id": "b44bcb03",
   "metadata": {},
   "outputs": [],
   "source": [
    "# 2-2. 텍스트 전처리: 토크나이징, 불용어 제거, lemmination 등"
   ]
  },
  {
   "cell_type": "markdown",
   "id": "d9c56714",
   "metadata": {},
   "source": [
    "---"
   ]
  },
  {
   "cell_type": "code",
   "execution_count": null,
   "id": "fb400e5b",
   "metadata": {},
   "outputs": [],
   "source": [
    "# 2-3. 텍스트 임베딩(opt): CountVectorizer, GloVe, FastText, BERT"
   ]
  },
  {
   "cell_type": "code",
   "execution_count": null,
   "id": "9cc903e9",
   "metadata": {},
   "outputs": [],
   "source": [
    "# 2-3. 텍스트 임베딩(opt): CountVectorizer, GloVe, FastText, BERT"
   ]
  },
  {
   "cell_type": "markdown",
   "id": "12a26e8f",
   "metadata": {},
   "source": [
    "---"
   ]
  },
  {
   "cell_type": "code",
   "execution_count": null,
   "id": "8b1da10b",
   "metadata": {},
   "outputs": [],
   "source": [
    "# 2-4. Meta Features 생성: Target and N-grams"
   ]
  },
  {
   "cell_type": "code",
   "execution_count": null,
   "id": "ccb45997",
   "metadata": {},
   "outputs": [],
   "source": [
    "# 2-4. Meta Features 생성: Target and N-grams"
   ]
  },
  {
   "cell_type": "markdown",
   "id": "50b3feb9",
   "metadata": {},
   "source": [
    "---"
   ]
  },
  {
   "cell_type": "code",
   "execution_count": null,
   "id": "77000af7",
   "metadata": {},
   "outputs": [],
   "source": [
    "# 2-5. Mislabeled Samples 처리"
   ]
  },
  {
   "cell_type": "code",
   "execution_count": null,
   "id": "53b35382",
   "metadata": {},
   "outputs": [],
   "source": [
    "# 2-5. Mislabeled Samples 처리"
   ]
  },
  {
   "cell_type": "markdown",
   "id": "185489ae",
   "metadata": {},
   "source": [
    "---"
   ]
  },
  {
   "cell_type": "code",
   "execution_count": null,
   "id": "6e2a8391",
   "metadata": {},
   "outputs": [],
   "source": [
    "# 3. 모델 선택, 메트릭(F1 Score): 임베딩한 트윗을 DNN에 넣어서 분류시키기, RidgeClassifier, MLP layer"
   ]
  },
  {
   "cell_type": "code",
   "execution_count": null,
   "id": "ab8fec85",
   "metadata": {},
   "outputs": [],
   "source": [
    "# 3. 모델 선택, 메트릭(F1 Score): 임베딩한 트윗을 DNN에 넣어서 분류시키기, RidgeClassifier, MLP layer"
   ]
  },
  {
   "cell_type": "markdown",
   "id": "acc803b4",
   "metadata": {},
   "source": [
    "---"
   ]
  },
  {
   "cell_type": "code",
   "execution_count": null,
   "id": "403b79e3",
   "metadata": {},
   "outputs": [],
   "source": [
    "# 4. 훈련: train, validation(StratifiedKFold)"
   ]
  },
  {
   "cell_type": "code",
   "execution_count": null,
   "id": "706d5c0c",
   "metadata": {},
   "outputs": [],
   "source": [
    "# 4. 훈련: train, validation(StratifiedKFold)"
   ]
  },
  {
   "cell_type": "markdown",
   "id": "7ee3839c",
   "metadata": {},
   "source": [
    "---"
   ]
  },
  {
   "cell_type": "code",
   "execution_count": null,
   "id": "55540397",
   "metadata": {},
   "outputs": [],
   "source": [
    "# 5. 예측"
   ]
  },
  {
   "cell_type": "code",
   "execution_count": null,
   "id": "d5d3a254",
   "metadata": {},
   "outputs": [],
   "source": [
    "# 5. 예측"
   ]
  }
 ],
 "metadata": {
  "kernelspec": {
   "display_name": "Python 3 (ipykernel)",
   "language": "python",
   "name": "python3"
  },
  "language_info": {
   "codemirror_mode": {
    "name": "ipython",
    "version": 3
   },
   "file_extension": ".py",
   "mimetype": "text/x-python",
   "name": "python",
   "nbconvert_exporter": "python",
   "pygments_lexer": "ipython3",
   "version": "3.9.2"
  }
 },
 "nbformat": 4,
 "nbformat_minor": 5
}
